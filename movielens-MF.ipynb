{
 "cells": [
  {
   "cell_type": "markdown",
   "metadata": {},
   "source": [
    "This notebook is used to analyze the matrix factorization results from Wan et. al's framework"
   ]
  },
  {
   "cell_type": "code",
   "execution_count": 1,
   "metadata": {},
   "outputs": [],
   "source": [
    "from glob import glob\n",
    "import os\n",
    "from collections import defaultdict\n",
    "from datetime import datetime, timedelta\n",
    "\n",
    "import h5py\n",
    "import numpy as np\n",
    "import pandas as pd\n",
    "import matplotlib._color_data as mcd\n",
    "import matplotlib.pyplot as plt\n",
    "import matplotlib.colors as colors\n",
    "import matplotlib as mpl\n",
    "from matplotlib import gridspec\n",
    "from scipy.stats import mannwhitneyu\n",
    "import seaborn as sns \n",
    "\n",
    "mpl.rcParams['pdf.fonttype'] = 42\n",
    "mpl.rcParams['ps.fonttype'] = 42\n",
    "plt.style.use('seaborn-white')\n"
   ]
  },
  {
   "cell_type": "code",
   "execution_count": 2,
   "metadata": {},
   "outputs": [],
   "source": [
    "DATA_DIR = '/mnt/ceph/users/kchen/jupyter_notebooks/sk/fp_534/cos534-final-project/marketBias/result_all'"
   ]
  },
  {
   "cell_type": "code",
   "execution_count": 3,
   "metadata": {},
   "outputs": [],
   "source": [
    "def get_rating_perf(protect_item, protect_user, protect_user_item):\n",
    "    query_files = os.path.join(DATA_DIR, '*_{0}_{1}_{2}_rating_results.csv'.format(\n",
    "        protect_item, protect_user, protect_user_item))\n",
    "    \n",
    "    hp_df = {}\n",
    "    hp = []\n",
    "    mse = []\n",
    "    \n",
    "    for fp in glob(query_files):\n",
    "        lbda = os.path.basename(fp).split('MF')[1].split('_')[4]\n",
    "        C = os.path.basename(fp).split('MF')[1].split('_')[1]\n",
    "        params = (lbda, C)\n",
    "        \n",
    "        df = pd.read_csv(fp)\n",
    "        hp_df[params] = df\n",
    "        hp.append(params)\n",
    "        mse.append(df[df['Unnamed: 0'] == 'validation']['MSE'].values[0])\n",
    "    ix = np.argmin(mse)\n",
    "    print('Rating performance')\n",
    "    print('Parameters: lambda = {0}, corr_loss = {1}'.format(\n",
    "        *hp[ix]))\n",
    "    return hp_df[hp[ix]]"
   ]
  },
  {
   "cell_type": "code",
   "execution_count": 4,
   "metadata": {},
   "outputs": [],
   "source": [
    "def get_ranking_perf(protect_item, protect_user, protect_user_item):\n",
    "    query_files = os.path.join(DATA_DIR, '*_{0}_{1}_{2}_ranking_results.csv'.format(\n",
    "        protect_item, protect_user, protect_user_item))\n",
    "    \n",
    "    hp_df = {}\n",
    "    hp = []\n",
    "    ndcg = []\n",
    "    \n",
    "    for fp in glob(query_files):\n",
    "        lbda = os.path.basename(fp).split('MF')[1].split('_')[4]\n",
    "        C = os.path.basename(fp).split('MF')[1].split('_')[1]\n",
    "        params = (lbda, C)\n",
    "        \n",
    "        df = pd.read_csv(fp)\n",
    "        hp_df[params] = df\n",
    "        hp.append(params)\n",
    "        ndcg.append(df[df['Unnamed: 0'] == 'validation']['NDCG'].values[0])\n",
    "    ix = np.argmin(ndcg)\n",
    "    print('Ranking performance')\n",
    "    print('Parameters: lambda = {0}, corr_loss = {1}'.format(\n",
    "        *hp[ix]))\n",
    "    return hp_df[hp[ix]]"
   ]
  },
  {
   "cell_type": "markdown",
   "metadata": {},
   "source": [
    "Display the performance metrics for the best-performing model (based on validation accuracy).\n",
    "\n",
    "Note that `protect_item` refers to movies here, we just keep the language the same as what was used in the framework. "
   ]
  },
  {
   "cell_type": "markdown",
   "metadata": {},
   "source": [
    "### Standard MF"
   ]
  },
  {
   "cell_type": "code",
   "execution_count": 5,
   "metadata": {},
   "outputs": [
    {
     "name": "stdout",
     "output_type": "stream",
     "text": [
      "Rating performance\n",
      "Parameters: lambda = 0.1, corr_loss = 0\n"
     ]
    },
    {
     "data": {
      "text/html": [
       "<div>\n",
       "<style scoped>\n",
       "    .dataframe tbody tr th:only-of-type {\n",
       "        vertical-align: middle;\n",
       "    }\n",
       "\n",
       "    .dataframe tbody tr th {\n",
       "        vertical-align: top;\n",
       "    }\n",
       "\n",
       "    .dataframe thead th {\n",
       "        text-align: right;\n",
       "    }\n",
       "</style>\n",
       "<table border=\"1\" class=\"dataframe\">\n",
       "  <thead>\n",
       "    <tr style=\"text-align: right;\">\n",
       "      <th></th>\n",
       "      <th>Unnamed: 0</th>\n",
       "      <th>MSE</th>\n",
       "      <th>MAE</th>\n",
       "      <th>F-stat</th>\n",
       "      <th>p-value</th>\n",
       "    </tr>\n",
       "  </thead>\n",
       "  <tbody>\n",
       "    <tr>\n",
       "      <th>0</th>\n",
       "      <td>validation</td>\n",
       "      <td>0.721758</td>\n",
       "      <td>0.664944</td>\n",
       "      <td>8.557137</td>\n",
       "      <td>4.106509e-08</td>\n",
       "    </tr>\n",
       "    <tr>\n",
       "      <th>1</th>\n",
       "      <td>test</td>\n",
       "      <td>0.796458</td>\n",
       "      <td>0.700816</td>\n",
       "      <td>9.369875</td>\n",
       "      <td>6.120114e-09</td>\n",
       "    </tr>\n",
       "  </tbody>\n",
       "</table>\n",
       "</div>"
      ],
      "text/plain": [
       "   Unnamed: 0       MSE       MAE    F-stat       p-value\n",
       "0  validation  0.721758  0.664944  8.557137  4.106509e-08\n",
       "1        test  0.796458  0.700816  9.369875  6.120114e-09"
      ]
     },
     "metadata": {},
     "output_type": "display_data"
    },
    {
     "name": "stdout",
     "output_type": "stream",
     "text": [
      "Ranking performance\n",
      "Parameters: lambda = 10, corr_loss = 0\n"
     ]
    },
    {
     "data": {
      "text/html": [
       "<div>\n",
       "<style scoped>\n",
       "    .dataframe tbody tr th:only-of-type {\n",
       "        vertical-align: middle;\n",
       "    }\n",
       "\n",
       "    .dataframe tbody tr th {\n",
       "        vertical-align: top;\n",
       "    }\n",
       "\n",
       "    .dataframe thead th {\n",
       "        text-align: right;\n",
       "    }\n",
       "</style>\n",
       "<table border=\"1\" class=\"dataframe\">\n",
       "  <thead>\n",
       "    <tr style=\"text-align: right;\">\n",
       "      <th></th>\n",
       "      <th>Unnamed: 0</th>\n",
       "      <th>NDCG</th>\n",
       "      <th>AUC</th>\n",
       "      <th>KL</th>\n",
       "    </tr>\n",
       "  </thead>\n",
       "  <tbody>\n",
       "    <tr>\n",
       "      <th>0</th>\n",
       "      <td>validation</td>\n",
       "      <td>0.103081</td>\n",
       "      <td>0.632573</td>\n",
       "      <td>0.064861</td>\n",
       "    </tr>\n",
       "    <tr>\n",
       "      <th>1</th>\n",
       "      <td>test</td>\n",
       "      <td>0.101569</td>\n",
       "      <td>0.623268</td>\n",
       "      <td>0.074229</td>\n",
       "    </tr>\n",
       "  </tbody>\n",
       "</table>\n",
       "</div>"
      ],
      "text/plain": [
       "   Unnamed: 0      NDCG       AUC        KL\n",
       "0  validation  0.103081  0.632573  0.064861\n",
       "1        test  0.101569  0.623268  0.074229"
      ]
     },
     "metadata": {},
     "output_type": "display_data"
    }
   ],
   "source": [
    "protect_item = 0\n",
    "protect_user = 0\n",
    "protect_user_item = 0\n",
    "display(get_rating_perf(protect_item, protect_user, protect_user_item))\n",
    "display(get_ranking_perf(protect_item, protect_user, protect_user_item))"
   ]
  },
  {
   "cell_type": "markdown",
   "metadata": {},
   "source": [
    "### MF(corr.error)"
   ]
  },
  {
   "cell_type": "code",
   "execution_count": 7,
   "metadata": {},
   "outputs": [
    {
     "name": "stdout",
     "output_type": "stream",
     "text": [
      "Rating performance\n",
      "Parameters: lambda = 0.1, corr_loss = 0.5\n"
     ]
    },
    {
     "data": {
      "text/html": [
       "<div>\n",
       "<style scoped>\n",
       "    .dataframe tbody tr th:only-of-type {\n",
       "        vertical-align: middle;\n",
       "    }\n",
       "\n",
       "    .dataframe tbody tr th {\n",
       "        vertical-align: top;\n",
       "    }\n",
       "\n",
       "    .dataframe thead th {\n",
       "        text-align: right;\n",
       "    }\n",
       "</style>\n",
       "<table border=\"1\" class=\"dataframe\">\n",
       "  <thead>\n",
       "    <tr style=\"text-align: right;\">\n",
       "      <th></th>\n",
       "      <th>Unnamed: 0</th>\n",
       "      <th>MSE</th>\n",
       "      <th>MAE</th>\n",
       "      <th>F-stat</th>\n",
       "      <th>p-value</th>\n",
       "    </tr>\n",
       "  </thead>\n",
       "  <tbody>\n",
       "    <tr>\n",
       "      <th>0</th>\n",
       "      <td>validation</td>\n",
       "      <td>0.863468</td>\n",
       "      <td>0.734961</td>\n",
       "      <td>11.780768</td>\n",
       "      <td>2.069760e-11</td>\n",
       "    </tr>\n",
       "    <tr>\n",
       "      <th>1</th>\n",
       "      <td>test</td>\n",
       "      <td>0.943910</td>\n",
       "      <td>0.770629</td>\n",
       "      <td>21.041331</td>\n",
       "      <td>4.300510e-21</td>\n",
       "    </tr>\n",
       "  </tbody>\n",
       "</table>\n",
       "</div>"
      ],
      "text/plain": [
       "   Unnamed: 0       MSE       MAE     F-stat       p-value\n",
       "0  validation  0.863468  0.734961  11.780768  2.069760e-11\n",
       "1        test  0.943910  0.770629  21.041331  4.300510e-21"
      ]
     },
     "metadata": {},
     "output_type": "display_data"
    },
    {
     "name": "stdout",
     "output_type": "stream",
     "text": [
      "Ranking performance\n",
      "Parameters: lambda = 0.1, corr_loss = 10.0\n"
     ]
    },
    {
     "data": {
      "text/html": [
       "<div>\n",
       "<style scoped>\n",
       "    .dataframe tbody tr th:only-of-type {\n",
       "        vertical-align: middle;\n",
       "    }\n",
       "\n",
       "    .dataframe tbody tr th {\n",
       "        vertical-align: top;\n",
       "    }\n",
       "\n",
       "    .dataframe thead th {\n",
       "        text-align: right;\n",
       "    }\n",
       "</style>\n",
       "<table border=\"1\" class=\"dataframe\">\n",
       "  <thead>\n",
       "    <tr style=\"text-align: right;\">\n",
       "      <th></th>\n",
       "      <th>Unnamed: 0</th>\n",
       "      <th>NDCG</th>\n",
       "      <th>AUC</th>\n",
       "      <th>KL</th>\n",
       "    </tr>\n",
       "  </thead>\n",
       "  <tbody>\n",
       "    <tr>\n",
       "      <th>0</th>\n",
       "      <td>validation</td>\n",
       "      <td>0.100791</td>\n",
       "      <td>0.455910</td>\n",
       "      <td>0.004348</td>\n",
       "    </tr>\n",
       "    <tr>\n",
       "      <th>1</th>\n",
       "      <td>test</td>\n",
       "      <td>0.099594</td>\n",
       "      <td>0.434933</td>\n",
       "      <td>0.012201</td>\n",
       "    </tr>\n",
       "  </tbody>\n",
       "</table>\n",
       "</div>"
      ],
      "text/plain": [
       "   Unnamed: 0      NDCG       AUC        KL\n",
       "0  validation  0.100791  0.455910  0.004348\n",
       "1        test  0.099594  0.434933  0.012201"
      ]
     },
     "metadata": {},
     "output_type": "display_data"
    }
   ],
   "source": [
    "protect_item = 1\n",
    "protect_user = 0\n",
    "protect_user_item = 0\n",
    "display(get_rating_perf(protect_item, protect_user, protect_user_item))\n",
    "display(get_ranking_perf(protect_item, protect_user, protect_user_item))"
   ]
  },
  {
   "cell_type": "code",
   "execution_count": 8,
   "metadata": {},
   "outputs": [
    {
     "name": "stdout",
     "output_type": "stream",
     "text": [
      "Rating performance\n",
      "Parameters: lambda = 0.1, corr_loss = 0.5\n"
     ]
    },
    {
     "data": {
      "text/html": [
       "<div>\n",
       "<style scoped>\n",
       "    .dataframe tbody tr th:only-of-type {\n",
       "        vertical-align: middle;\n",
       "    }\n",
       "\n",
       "    .dataframe tbody tr th {\n",
       "        vertical-align: top;\n",
       "    }\n",
       "\n",
       "    .dataframe thead th {\n",
       "        text-align: right;\n",
       "    }\n",
       "</style>\n",
       "<table border=\"1\" class=\"dataframe\">\n",
       "  <thead>\n",
       "    <tr style=\"text-align: right;\">\n",
       "      <th></th>\n",
       "      <th>Unnamed: 0</th>\n",
       "      <th>MSE</th>\n",
       "      <th>MAE</th>\n",
       "      <th>F-stat</th>\n",
       "      <th>p-value</th>\n",
       "    </tr>\n",
       "  </thead>\n",
       "  <tbody>\n",
       "    <tr>\n",
       "      <th>0</th>\n",
       "      <td>validation</td>\n",
       "      <td>0.913464</td>\n",
       "      <td>0.757270</td>\n",
       "      <td>19.455213</td>\n",
       "      <td>2.043896e-19</td>\n",
       "    </tr>\n",
       "    <tr>\n",
       "      <th>1</th>\n",
       "      <td>test</td>\n",
       "      <td>0.987658</td>\n",
       "      <td>0.791637</td>\n",
       "      <td>37.212383</td>\n",
       "      <td>2.891838e-38</td>\n",
       "    </tr>\n",
       "  </tbody>\n",
       "</table>\n",
       "</div>"
      ],
      "text/plain": [
       "   Unnamed: 0       MSE       MAE     F-stat       p-value\n",
       "0  validation  0.913464  0.757270  19.455213  2.043896e-19\n",
       "1        test  0.987658  0.791637  37.212383  2.891838e-38"
      ]
     },
     "metadata": {},
     "output_type": "display_data"
    },
    {
     "name": "stdout",
     "output_type": "stream",
     "text": [
      "Ranking performance\n",
      "Parameters: lambda = 10, corr_loss = 5.0\n"
     ]
    },
    {
     "data": {
      "text/html": [
       "<div>\n",
       "<style scoped>\n",
       "    .dataframe tbody tr th:only-of-type {\n",
       "        vertical-align: middle;\n",
       "    }\n",
       "\n",
       "    .dataframe tbody tr th {\n",
       "        vertical-align: top;\n",
       "    }\n",
       "\n",
       "    .dataframe thead th {\n",
       "        text-align: right;\n",
       "    }\n",
       "</style>\n",
       "<table border=\"1\" class=\"dataframe\">\n",
       "  <thead>\n",
       "    <tr style=\"text-align: right;\">\n",
       "      <th></th>\n",
       "      <th>Unnamed: 0</th>\n",
       "      <th>NDCG</th>\n",
       "      <th>AUC</th>\n",
       "      <th>KL</th>\n",
       "    </tr>\n",
       "  </thead>\n",
       "  <tbody>\n",
       "    <tr>\n",
       "      <th>0</th>\n",
       "      <td>validation</td>\n",
       "      <td>0.099952</td>\n",
       "      <td>0.549000</td>\n",
       "      <td>0.033831</td>\n",
       "    </tr>\n",
       "    <tr>\n",
       "      <th>1</th>\n",
       "      <td>test</td>\n",
       "      <td>0.099887</td>\n",
       "      <td>0.555115</td>\n",
       "      <td>0.050626</td>\n",
       "    </tr>\n",
       "  </tbody>\n",
       "</table>\n",
       "</div>"
      ],
      "text/plain": [
       "   Unnamed: 0      NDCG       AUC        KL\n",
       "0  validation  0.099952  0.549000  0.033831\n",
       "1        test  0.099887  0.555115  0.050626"
      ]
     },
     "metadata": {},
     "output_type": "display_data"
    }
   ],
   "source": [
    "protect_item = 0\n",
    "protect_user = 1\n",
    "protect_user_item = 0\n",
    "display(get_rating_perf(protect_item, protect_user, protect_user_item))\n",
    "display(get_ranking_perf(protect_item, protect_user, protect_user_item))"
   ]
  },
  {
   "cell_type": "code",
   "execution_count": 9,
   "metadata": {},
   "outputs": [
    {
     "name": "stdout",
     "output_type": "stream",
     "text": [
      "Rating performance\n",
      "Parameters: lambda = 0.1, corr_loss = 10.0\n"
     ]
    },
    {
     "data": {
      "text/html": [
       "<div>\n",
       "<style scoped>\n",
       "    .dataframe tbody tr th:only-of-type {\n",
       "        vertical-align: middle;\n",
       "    }\n",
       "\n",
       "    .dataframe tbody tr th {\n",
       "        vertical-align: top;\n",
       "    }\n",
       "\n",
       "    .dataframe thead th {\n",
       "        text-align: right;\n",
       "    }\n",
       "</style>\n",
       "<table border=\"1\" class=\"dataframe\">\n",
       "  <thead>\n",
       "    <tr style=\"text-align: right;\">\n",
       "      <th></th>\n",
       "      <th>Unnamed: 0</th>\n",
       "      <th>MSE</th>\n",
       "      <th>MAE</th>\n",
       "      <th>F-stat</th>\n",
       "      <th>p-value</th>\n",
       "    </tr>\n",
       "  </thead>\n",
       "  <tbody>\n",
       "    <tr>\n",
       "      <th>0</th>\n",
       "      <td>validation</td>\n",
       "      <td>0.719717</td>\n",
       "      <td>0.664685</td>\n",
       "      <td>6.108318</td>\n",
       "      <td>0.000012</td>\n",
       "    </tr>\n",
       "    <tr>\n",
       "      <th>1</th>\n",
       "      <td>test</td>\n",
       "      <td>0.794757</td>\n",
       "      <td>0.700378</td>\n",
       "      <td>6.769610</td>\n",
       "      <td>0.000003</td>\n",
       "    </tr>\n",
       "  </tbody>\n",
       "</table>\n",
       "</div>"
      ],
      "text/plain": [
       "   Unnamed: 0       MSE       MAE    F-stat   p-value\n",
       "0  validation  0.719717  0.664685  6.108318  0.000012\n",
       "1        test  0.794757  0.700378  6.769610  0.000003"
      ]
     },
     "metadata": {},
     "output_type": "display_data"
    },
    {
     "name": "stdout",
     "output_type": "stream",
     "text": [
      "Ranking performance\n",
      "Parameters: lambda = 10, corr_loss = 1.0\n"
     ]
    },
    {
     "data": {
      "text/html": [
       "<div>\n",
       "<style scoped>\n",
       "    .dataframe tbody tr th:only-of-type {\n",
       "        vertical-align: middle;\n",
       "    }\n",
       "\n",
       "    .dataframe tbody tr th {\n",
       "        vertical-align: top;\n",
       "    }\n",
       "\n",
       "    .dataframe thead th {\n",
       "        text-align: right;\n",
       "    }\n",
       "</style>\n",
       "<table border=\"1\" class=\"dataframe\">\n",
       "  <thead>\n",
       "    <tr style=\"text-align: right;\">\n",
       "      <th></th>\n",
       "      <th>Unnamed: 0</th>\n",
       "      <th>NDCG</th>\n",
       "      <th>AUC</th>\n",
       "      <th>KL</th>\n",
       "    </tr>\n",
       "  </thead>\n",
       "  <tbody>\n",
       "    <tr>\n",
       "      <th>0</th>\n",
       "      <td>validation</td>\n",
       "      <td>0.103106</td>\n",
       "      <td>0.633806</td>\n",
       "      <td>0.061919</td>\n",
       "    </tr>\n",
       "    <tr>\n",
       "      <th>1</th>\n",
       "      <td>test</td>\n",
       "      <td>0.101709</td>\n",
       "      <td>0.625525</td>\n",
       "      <td>0.088172</td>\n",
       "    </tr>\n",
       "  </tbody>\n",
       "</table>\n",
       "</div>"
      ],
      "text/plain": [
       "   Unnamed: 0      NDCG       AUC        KL\n",
       "0  validation  0.103106  0.633806  0.061919\n",
       "1        test  0.101709  0.625525  0.088172"
      ]
     },
     "metadata": {},
     "output_type": "display_data"
    }
   ],
   "source": [
    "protect_item = 0\n",
    "protect_user = 0\n",
    "protect_user_item = 1\n",
    "display(get_rating_perf(protect_item, protect_user, protect_user_item))\n",
    "display(get_ranking_perf(protect_item, protect_user, protect_user_item))"
   ]
  },
  {
   "cell_type": "code",
   "execution_count": 10,
   "metadata": {},
   "outputs": [
    {
     "name": "stdout",
     "output_type": "stream",
     "text": [
      "Rating performance\n",
      "Parameters: lambda = 0.1, corr_loss = 0.5\n"
     ]
    },
    {
     "data": {
      "text/html": [
       "<div>\n",
       "<style scoped>\n",
       "    .dataframe tbody tr th:only-of-type {\n",
       "        vertical-align: middle;\n",
       "    }\n",
       "\n",
       "    .dataframe tbody tr th {\n",
       "        vertical-align: top;\n",
       "    }\n",
       "\n",
       "    .dataframe thead th {\n",
       "        text-align: right;\n",
       "    }\n",
       "</style>\n",
       "<table border=\"1\" class=\"dataframe\">\n",
       "  <thead>\n",
       "    <tr style=\"text-align: right;\">\n",
       "      <th></th>\n",
       "      <th>Unnamed: 0</th>\n",
       "      <th>MSE</th>\n",
       "      <th>MAE</th>\n",
       "      <th>F-stat</th>\n",
       "      <th>p-value</th>\n",
       "    </tr>\n",
       "  </thead>\n",
       "  <tbody>\n",
       "    <tr>\n",
       "      <th>0</th>\n",
       "      <td>validation</td>\n",
       "      <td>0.927266</td>\n",
       "      <td>0.762015</td>\n",
       "      <td>14.243179</td>\n",
       "      <td>5.815740e-14</td>\n",
       "    </tr>\n",
       "    <tr>\n",
       "      <th>1</th>\n",
       "      <td>test</td>\n",
       "      <td>1.009244</td>\n",
       "      <td>0.799807</td>\n",
       "      <td>30.942462</td>\n",
       "      <td>1.384173e-31</td>\n",
       "    </tr>\n",
       "  </tbody>\n",
       "</table>\n",
       "</div>"
      ],
      "text/plain": [
       "   Unnamed: 0       MSE       MAE     F-stat       p-value\n",
       "0  validation  0.927266  0.762015  14.243179  5.815740e-14\n",
       "1        test  1.009244  0.799807  30.942462  1.384173e-31"
      ]
     },
     "metadata": {},
     "output_type": "display_data"
    },
    {
     "name": "stdout",
     "output_type": "stream",
     "text": [
      "Ranking performance\n",
      "Parameters: lambda = 10, corr_loss = 5.0\n"
     ]
    },
    {
     "data": {
      "text/html": [
       "<div>\n",
       "<style scoped>\n",
       "    .dataframe tbody tr th:only-of-type {\n",
       "        vertical-align: middle;\n",
       "    }\n",
       "\n",
       "    .dataframe tbody tr th {\n",
       "        vertical-align: top;\n",
       "    }\n",
       "\n",
       "    .dataframe thead th {\n",
       "        text-align: right;\n",
       "    }\n",
       "</style>\n",
       "<table border=\"1\" class=\"dataframe\">\n",
       "  <thead>\n",
       "    <tr style=\"text-align: right;\">\n",
       "      <th></th>\n",
       "      <th>Unnamed: 0</th>\n",
       "      <th>NDCG</th>\n",
       "      <th>AUC</th>\n",
       "      <th>KL</th>\n",
       "    </tr>\n",
       "  </thead>\n",
       "  <tbody>\n",
       "    <tr>\n",
       "      <th>0</th>\n",
       "      <td>validation</td>\n",
       "      <td>0.098138</td>\n",
       "      <td>0.475854</td>\n",
       "      <td>0.023801</td>\n",
       "    </tr>\n",
       "    <tr>\n",
       "      <th>1</th>\n",
       "      <td>test</td>\n",
       "      <td>0.097499</td>\n",
       "      <td>0.469434</td>\n",
       "      <td>0.036402</td>\n",
       "    </tr>\n",
       "  </tbody>\n",
       "</table>\n",
       "</div>"
      ],
      "text/plain": [
       "   Unnamed: 0      NDCG       AUC        KL\n",
       "0  validation  0.098138  0.475854  0.023801\n",
       "1        test  0.097499  0.469434  0.036402"
      ]
     },
     "metadata": {},
     "output_type": "display_data"
    }
   ],
   "source": [
    "protect_item = 1\n",
    "protect_user = 1\n",
    "protect_user_item = 0\n",
    "display(get_rating_perf(protect_item, protect_user, protect_user_item))\n",
    "display(get_ranking_perf(protect_item, protect_user, protect_user_item))"
   ]
  },
  {
   "cell_type": "code",
   "execution_count": 6,
   "metadata": {},
   "outputs": [
    {
     "name": "stdout",
     "output_type": "stream",
     "text": [
      "Rating performance\n",
      "Parameters: lambda = 0.1, corr_loss = 0.5\n"
     ]
    },
    {
     "data": {
      "text/html": [
       "<div>\n",
       "<style scoped>\n",
       "    .dataframe tbody tr th:only-of-type {\n",
       "        vertical-align: middle;\n",
       "    }\n",
       "\n",
       "    .dataframe tbody tr th {\n",
       "        vertical-align: top;\n",
       "    }\n",
       "\n",
       "    .dataframe thead th {\n",
       "        text-align: right;\n",
       "    }\n",
       "</style>\n",
       "<table border=\"1\" class=\"dataframe\">\n",
       "  <thead>\n",
       "    <tr style=\"text-align: right;\">\n",
       "      <th></th>\n",
       "      <th>Unnamed: 0</th>\n",
       "      <th>MSE</th>\n",
       "      <th>MAE</th>\n",
       "      <th>F-stat</th>\n",
       "      <th>p-value</th>\n",
       "    </tr>\n",
       "  </thead>\n",
       "  <tbody>\n",
       "    <tr>\n",
       "      <th>0</th>\n",
       "      <td>validation</td>\n",
       "      <td>0.946755</td>\n",
       "      <td>0.769718</td>\n",
       "      <td>15.172153</td>\n",
       "      <td>6.266685e-15</td>\n",
       "    </tr>\n",
       "    <tr>\n",
       "      <th>1</th>\n",
       "      <td>test</td>\n",
       "      <td>1.026092</td>\n",
       "      <td>0.807680</td>\n",
       "      <td>29.249012</td>\n",
       "      <td>8.741459e-30</td>\n",
       "    </tr>\n",
       "  </tbody>\n",
       "</table>\n",
       "</div>"
      ],
      "text/plain": [
       "   Unnamed: 0       MSE       MAE     F-stat       p-value\n",
       "0  validation  0.946755  0.769718  15.172153  6.266685e-15\n",
       "1        test  1.026092  0.807680  29.249012  8.741459e-30"
      ]
     },
     "metadata": {},
     "output_type": "display_data"
    },
    {
     "name": "stdout",
     "output_type": "stream",
     "text": [
      "Ranking performance\n",
      "Parameters: lambda = 10, corr_loss = 5.0\n"
     ]
    },
    {
     "data": {
      "text/html": [
       "<div>\n",
       "<style scoped>\n",
       "    .dataframe tbody tr th:only-of-type {\n",
       "        vertical-align: middle;\n",
       "    }\n",
       "\n",
       "    .dataframe tbody tr th {\n",
       "        vertical-align: top;\n",
       "    }\n",
       "\n",
       "    .dataframe thead th {\n",
       "        text-align: right;\n",
       "    }\n",
       "</style>\n",
       "<table border=\"1\" class=\"dataframe\">\n",
       "  <thead>\n",
       "    <tr style=\"text-align: right;\">\n",
       "      <th></th>\n",
       "      <th>Unnamed: 0</th>\n",
       "      <th>NDCG</th>\n",
       "      <th>AUC</th>\n",
       "      <th>KL</th>\n",
       "    </tr>\n",
       "  </thead>\n",
       "  <tbody>\n",
       "    <tr>\n",
       "      <th>0</th>\n",
       "      <td>validation</td>\n",
       "      <td>0.098575</td>\n",
       "      <td>0.480473</td>\n",
       "      <td>0.041988</td>\n",
       "    </tr>\n",
       "    <tr>\n",
       "      <th>1</th>\n",
       "      <td>test</td>\n",
       "      <td>0.097800</td>\n",
       "      <td>0.474950</td>\n",
       "      <td>0.058190</td>\n",
       "    </tr>\n",
       "  </tbody>\n",
       "</table>\n",
       "</div>"
      ],
      "text/plain": [
       "   Unnamed: 0      NDCG       AUC        KL\n",
       "0  validation  0.098575  0.480473  0.041988\n",
       "1        test  0.097800  0.474950  0.058190"
      ]
     },
     "metadata": {},
     "output_type": "display_data"
    }
   ],
   "source": [
    "protect_item = 1\n",
    "protect_user = 1\n",
    "protect_user_item = 1\n",
    "display(get_rating_perf(protect_item, protect_user, protect_user_item))\n",
    "display(get_ranking_perf(protect_item, protect_user, protect_user_item))"
   ]
  },
  {
   "cell_type": "markdown",
   "metadata": {},
   "source": [
    "## Get errors for each test sample"
   ]
  },
  {
   "cell_type": "code",
   "execution_count": 13,
   "metadata": {},
   "outputs": [],
   "source": [
    "TESTDIR = '/mnt/ceph/users/kchen/jupyter_notebooks/sk/fp_534/cos534-final-project/marketBias/test_pred'"
   ]
  },
  {
   "cell_type": "code",
   "execution_count": 67,
   "metadata": {},
   "outputs": [],
   "source": [
    "segments = [('M', 'M'), ('M', 'F'), ('M', 'MF'),\n",
    "            ('F', 'F'), ('F', 'M'), ('F', 'MF')]\n",
    "\n",
    "performance = []\n",
    "\n",
    "for fp in glob(os.path.join(TESTDIR, '*_rating_test.csv')):\n",
    "    fn = os.path.basename(fp)\n",
    "    C = fn.split('MF')[1].split('_')[1]\n",
    "    lbda = fn.split('MF')[1].split('_')[4]\n",
    "    m, u, mu = fn.split('MF')[1].split('_')[6:9]\n",
    "    if C == '0':\n",
    "            model = 'standard MF'\n",
    "    else: \n",
    "        model = '({0}, {1}, {2})'.format(m, u, mu)\n",
    "    test_df = pd.read_csv(fp)\n",
    "    for (u_attr, m_attr) in segments:\n",
    "        subset_df = test_df[(test_df['user_attr'] == u_attr) &\n",
    "                            (test_df['model_attr'] == m_attr)]\n",
    "        remaining_df = test_df[~((test_df['user_attr'] == u_attr) &\n",
    "                                 (test_df['model_attr'] == m_attr))]\n",
    "        in_mse = np.mean(subset_df['error'].values**2)\n",
    "        out_mse = np.mean(remaining_df['error'].values**2)\n",
    "        performance.append({\n",
    "            'protect_movie': m, \n",
    "            'protect_user': u,\n",
    "            'protect_user_movie': mu,\n",
    "            'model': model,\n",
    "            'MSE': in_mse,\n",
    "            'MSE(out) - MSE(in)': out_mse - in_mse,\n",
    "            'segment': 'user = {0}, movie = {1}'.format(u_attr, m_attr),\n",
    "            'user_attr': u_attr,\n",
    "            'movie_attr': m_attr\n",
    "        })"
   ]
  },
  {
   "cell_type": "code",
   "execution_count": 68,
   "metadata": {},
   "outputs": [],
   "source": [
    "segment_df = pd.DataFrame(performance)\n",
    "segment_df['model'] = pd.Categorical(\n",
    "    segment_df['model'], \n",
    "    categories=['standard MF', \n",
    "                '(0, 0, 1)',\n",
    "                '(0, 1, 0)',\n",
    "                '(1, 0, 0)',\n",
    "                '(1, 1, 0)', \n",
    "                '(1, 1, 1)'],\n",
    "    ordered=True)"
   ]
  },
  {
   "cell_type": "code",
   "execution_count": null,
   "metadata": {},
   "outputs": [
    {
     "data": {
      "text/plain": [
       "<matplotlib.axes._subplots.AxesSubplot at 0x15550a5e6eb8>"
      ]
     },
     "execution_count": 73,
     "metadata": {},
     "output_type": "execute_result"
    }
   ],
   "source": [
    "plt.figure(figsize=(6, 6))\n",
    "sns.barplot(data=segment_df, x='model', y='MSE(out) - MSE(in)', hue='segment',\n",
    "            palette={\n",
    "                'user = M, movie = M': '#cf6119',\n",
    "                'user = M, movie = F': '#ff5c33',\n",
    "                'user = M, movie = MF': '#cf6119',\n",
    "                'user = F, movie = F': '#42bda2',\n",
    "                'user = F, movie = M': '#00ffdd',\n",
    "                'user = F, movie = MF': '#42bda2'\n",
    "            })"
   ]
  },
  {
   "cell_type": "code",
   "execution_count": 72,
   "metadata": {},
   "outputs": [
    {
     "data": {
      "text/plain": [
       "<matplotlib.axes._subplots.AxesSubplot at 0x15550a6d2f28>"
      ]
     },
     "execution_count": 72,
     "metadata": {},
     "output_type": "execute_result"
    },
    {
     "data": {
      "image/png": "[encoded data removed]",
      "text/plain": [
       "<Figure size 576x648 with 1 Axes>"
      ]
     },
     "metadata": {
      "needs_background": "light"
     },
     "output_type": "display_data"
    }
   ],
   "source": [
    "plt.figure(figsize=(8, 9))\n",
    "sns.barplot(data=segment_df, x='model', y='MSE', hue='segment',\n",
    "            palette={\n",
    "                'user = M, movie = M': '#cf6119',\n",
    "                'user = M, movie = F': '#ff5c33',\n",
    "                'user = M, movie = MF': '#cf6119',\n",
    "                'user = F, movie = F': '#42bda2',\n",
    "                'user = F, movie = M': '#00ffdd',\n",
    "                'user = F, movie = MF': '#42bda2'\n",
    "            })"
   ]
  },
  {
   "cell_type": "code",
   "execution_count": null,
   "metadata": {},
   "outputs": [],
   "source": []
  }
 ],
 "metadata": {
  "kernelspec": {
   "display_name": "Python [conda env:mbt-envj] *",
   "language": "python",
   "name": "conda-env-mbt-envj-py"
  },
  "language_info": {
   "codemirror_mode": {
    "name": "ipython",
    "version": 3
   },
   "file_extension": ".py",
   "mimetype": "text/x-python",
   "name": "python",
   "nbconvert_exporter": "python",
   "pygments_lexer": "ipython3",
   "version": "3.6.3"
  }
 },
 "nbformat": 4,
 "nbformat_minor": 2
}
