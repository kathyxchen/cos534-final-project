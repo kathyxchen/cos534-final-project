{
 "cells": [
  {
   "cell_type": "markdown",
   "metadata": {},
   "source": [
    "This notebook is used to analyze the matrix factorization results from Wan et. al's framework"
   ]
  },
  {
   "cell_type": "code",
   "execution_count": 1,
   "metadata": {},
   "outputs": [],
   "source": [
    "from glob import glob\n",
    "import os\n",
    "from collections import defaultdict\n",
    "from datetime import datetime, timedelta\n",
    "\n",
    "import h5py\n",
    "import numpy as np\n",
    "import pandas as pd\n",
    "import matplotlib._color_data as mcd\n",
    "import matplotlib.pyplot as plt\n",
    "import matplotlib.colors as colors\n",
    "import matplotlib as mpl\n",
    "from matplotlib import gridspec\n",
    "from scipy.stats import mannwhitneyu\n",
    "import seaborn as sns \n",
    "\n",
    "mpl.rcParams['pdf.fonttype'] = 42\n",
    "mpl.rcParams['ps.fonttype'] = 42\n",
    "plt.style.use('seaborn-white')\n",
    "mpl.rc('xtick', labelsize=14)\n",
    "mpl.rc('ytick', labelsize=14)\n",
    "mpl.rc('axes', titlesize=16, labelsize=14)"
   ]
  },
  {
   "cell_type": "code",
   "execution_count": 2,
   "metadata": {},
   "outputs": [],
   "source": [
    "PERF_DIR = './data/recsys-MF-performance-summary'\n",
    "TEST_RESULT_DIR = './data/recsys-MF-test-predictions'\n",
    "OUTPUT_DIR = './figures'"
   ]
  },
  {
   "cell_type": "code",
   "execution_count": 3,
   "metadata": {},
   "outputs": [],
   "source": [
    "def get_rating_perf(protect_item, protect_user, protect_user_item):\n",
    "    query_files = os.path.join(PERF_DIR, '*_{0}_{1}_{2}_rating_results.csv'.format(\n",
    "        protect_item, protect_user, protect_user_item))\n",
    "    \n",
    "    hp_df = {}\n",
    "    hp = []\n",
    "    mse = []\n",
    "    \n",
    "    for fp in glob(query_files):\n",
    "        lbda = os.path.basename(fp).split('MF')[1].split('_')[4]\n",
    "        C = os.path.basename(fp).split('MF')[1].split('_')[1]\n",
    "        params = (lbda, C)\n",
    "        \n",
    "        df = pd.read_csv(fp)\n",
    "        hp_df[params] = df\n",
    "        hp.append(params)\n",
    "        mse.append(df[df['Unnamed: 0'] == 'validation']['MSE'].values[0])\n",
    "    ix = np.argmin(mse)\n",
    "    print('Rating performance')\n",
    "    print('Parameters: lambda = {0}, corr_loss = {1}'.format(\n",
    "        *hp[ix]))\n",
    "    return hp_df[hp[ix]]"
   ]
  },
  {
   "cell_type": "code",
   "execution_count": 4,
   "metadata": {},
   "outputs": [],
   "source": [
    "def get_ranking_perf(protect_item, protect_user, protect_user_item):\n",
    "    query_files = os.path.join(PERF_DIR, '*_{0}_{1}_{2}_ranking_results.csv'.format(\n",
    "        protect_item, protect_user, protect_user_item))\n",
    "    \n",
    "    hp_df = {}\n",
    "    hp = []\n",
    "    ndcg = []\n",
    "    \n",
    "    for fp in glob(query_files):\n",
    "        lbda = os.path.basename(fp).split('MF')[1].split('_')[4]\n",
    "        C = os.path.basename(fp).split('MF')[1].split('_')[1]\n",
    "        params = (lbda, C)\n",
    "        \n",
    "        df = pd.read_csv(fp)\n",
    "        hp_df[params] = df\n",
    "        hp.append(params)\n",
    "        ndcg.append(df[df['Unnamed: 0'] == 'validation']['NDCG'].values[0])\n",
    "    ix = np.argmin(ndcg)\n",
    "    print('Ranking performance')\n",
    "    print('Parameters: lambda = {0}, corr_loss = {1}'.format(\n",
    "        *hp[ix]))\n",
    "    return hp_df[hp[ix]]"
   ]
  },
  {
   "cell_type": "markdown",
   "metadata": {},
   "source": [
    "Display the performance metrics for the best-performing model (based on validation accuracy).\n",
    "\n",
    "Note that `protect_item` refers to movies here, we just keep the language the same as what was used in the framework. "
   ]
  },
  {
   "cell_type": "markdown",
   "metadata": {},
   "source": [
    "### Standard MF"
   ]
  },
  {
   "cell_type": "code",
   "execution_count": 5,
   "metadata": {},
   "outputs": [
    {
     "name": "stdout",
     "output_type": "stream",
     "text": [
      "Rating performance\n",
      "Parameters: lambda = 0.1, corr_loss = 0\n"
     ]
    },
    {
     "data": {
      "text/html": [
       "<div>\n",
       "<style scoped>\n",
       "    .dataframe tbody tr th:only-of-type {\n",
       "        vertical-align: middle;\n",
       "    }\n",
       "\n",
       "    .dataframe tbody tr th {\n",
       "        vertical-align: top;\n",
       "    }\n",
       "\n",
       "    .dataframe thead th {\n",
       "        text-align: right;\n",
       "    }\n",
       "</style>\n",
       "<table border=\"1\" class=\"dataframe\">\n",
       "  <thead>\n",
       "    <tr style=\"text-align: right;\">\n",
       "      <th></th>\n",
       "      <th>Unnamed: 0</th>\n",
       "      <th>MSE</th>\n",
       "      <th>MAE</th>\n",
       "      <th>F-stat</th>\n",
       "      <th>p-value</th>\n",
       "    </tr>\n",
       "  </thead>\n",
       "  <tbody>\n",
       "    <tr>\n",
       "      <th>0</th>\n",
       "      <td>validation</td>\n",
       "      <td>0.721758</td>\n",
       "      <td>0.664944</td>\n",
       "      <td>8.557137</td>\n",
       "      <td>4.106509e-08</td>\n",
       "    </tr>\n",
       "    <tr>\n",
       "      <th>1</th>\n",
       "      <td>test</td>\n",
       "      <td>0.796458</td>\n",
       "      <td>0.700816</td>\n",
       "      <td>9.369875</td>\n",
       "      <td>6.120114e-09</td>\n",
       "    </tr>\n",
       "  </tbody>\n",
       "</table>\n",
       "</div>"
      ],
      "text/plain": [
       "   Unnamed: 0       MSE       MAE    F-stat       p-value\n",
       "0  validation  0.721758  0.664944  8.557137  4.106509e-08\n",
       "1        test  0.796458  0.700816  9.369875  6.120114e-09"
      ]
     },
     "metadata": {},
     "output_type": "display_data"
    },
    {
     "name": "stdout",
     "output_type": "stream",
     "text": [
      "Ranking performance\n",
      "Parameters: lambda = 10, corr_loss = 0\n"
     ]
    },
    {
     "data": {
      "text/html": [
       "<div>\n",
       "<style scoped>\n",
       "    .dataframe tbody tr th:only-of-type {\n",
       "        vertical-align: middle;\n",
       "    }\n",
       "\n",
       "    .dataframe tbody tr th {\n",
       "        vertical-align: top;\n",
       "    }\n",
       "\n",
       "    .dataframe thead th {\n",
       "        text-align: right;\n",
       "    }\n",
       "</style>\n",
       "<table border=\"1\" class=\"dataframe\">\n",
       "  <thead>\n",
       "    <tr style=\"text-align: right;\">\n",
       "      <th></th>\n",
       "      <th>Unnamed: 0</th>\n",
       "      <th>NDCG</th>\n",
       "      <th>AUC</th>\n",
       "      <th>KL</th>\n",
       "    </tr>\n",
       "  </thead>\n",
       "  <tbody>\n",
       "    <tr>\n",
       "      <th>0</th>\n",
       "      <td>validation</td>\n",
       "      <td>0.103081</td>\n",
       "      <td>0.632573</td>\n",
       "      <td>0.064861</td>\n",
       "    </tr>\n",
       "    <tr>\n",
       "      <th>1</th>\n",
       "      <td>test</td>\n",
       "      <td>0.101569</td>\n",
       "      <td>0.623268</td>\n",
       "      <td>0.074229</td>\n",
       "    </tr>\n",
       "  </tbody>\n",
       "</table>\n",
       "</div>"
      ],
      "text/plain": [
       "   Unnamed: 0      NDCG       AUC        KL\n",
       "0  validation  0.103081  0.632573  0.064861\n",
       "1        test  0.101569  0.623268  0.074229"
      ]
     },
     "metadata": {},
     "output_type": "display_data"
    }
   ],
   "source": [
    "protect_item = 0\n",
    "protect_user = 0\n",
    "protect_user_item = 0\n",
    "display(get_rating_perf(protect_item, protect_user, protect_user_item))\n",
    "display(get_ranking_perf(protect_item, protect_user, protect_user_item))"
   ]
  },
  {
   "cell_type": "markdown",
   "metadata": {},
   "source": [
    "### MF(corr.error)"
   ]
  },
  {
   "cell_type": "code",
   "execution_count": 6,
   "metadata": {},
   "outputs": [
    {
     "name": "stdout",
     "output_type": "stream",
     "text": [
      "Rating performance\n",
      "Parameters: lambda = 0.1, corr_loss = 0.5\n"
     ]
    },
    {
     "data": {
      "text/html": [
       "<div>\n",
       "<style scoped>\n",
       "    .dataframe tbody tr th:only-of-type {\n",
       "        vertical-align: middle;\n",
       "    }\n",
       "\n",
       "    .dataframe tbody tr th {\n",
       "        vertical-align: top;\n",
       "    }\n",
       "\n",
       "    .dataframe thead th {\n",
       "        text-align: right;\n",
       "    }\n",
       "</style>\n",
       "<table border=\"1\" class=\"dataframe\">\n",
       "  <thead>\n",
       "    <tr style=\"text-align: right;\">\n",
       "      <th></th>\n",
       "      <th>Unnamed: 0</th>\n",
       "      <th>MSE</th>\n",
       "      <th>MAE</th>\n",
       "      <th>F-stat</th>\n",
       "      <th>p-value</th>\n",
       "    </tr>\n",
       "  </thead>\n",
       "  <tbody>\n",
       "    <tr>\n",
       "      <th>0</th>\n",
       "      <td>validation</td>\n",
       "      <td>0.863468</td>\n",
       "      <td>0.734961</td>\n",
       "      <td>11.780768</td>\n",
       "      <td>2.069760e-11</td>\n",
       "    </tr>\n",
       "    <tr>\n",
       "      <th>1</th>\n",
       "      <td>test</td>\n",
       "      <td>0.943910</td>\n",
       "      <td>0.770629</td>\n",
       "      <td>21.041331</td>\n",
       "      <td>4.300510e-21</td>\n",
       "    </tr>\n",
       "  </tbody>\n",
       "</table>\n",
       "</div>"
      ],
      "text/plain": [
       "   Unnamed: 0       MSE       MAE     F-stat       p-value\n",
       "0  validation  0.863468  0.734961  11.780768  2.069760e-11\n",
       "1        test  0.943910  0.770629  21.041331  4.300510e-21"
      ]
     },
     "metadata": {},
     "output_type": "display_data"
    },
    {
     "name": "stdout",
     "output_type": "stream",
     "text": [
      "Ranking performance\n",
      "Parameters: lambda = 0.1, corr_loss = 10.0\n"
     ]
    },
    {
     "data": {
      "text/html": [
       "<div>\n",
       "<style scoped>\n",
       "    .dataframe tbody tr th:only-of-type {\n",
       "        vertical-align: middle;\n",
       "    }\n",
       "\n",
       "    .dataframe tbody tr th {\n",
       "        vertical-align: top;\n",
       "    }\n",
       "\n",
       "    .dataframe thead th {\n",
       "        text-align: right;\n",
       "    }\n",
       "</style>\n",
       "<table border=\"1\" class=\"dataframe\">\n",
       "  <thead>\n",
       "    <tr style=\"text-align: right;\">\n",
       "      <th></th>\n",
       "      <th>Unnamed: 0</th>\n",
       "      <th>NDCG</th>\n",
       "      <th>AUC</th>\n",
       "      <th>KL</th>\n",
       "    </tr>\n",
       "  </thead>\n",
       "  <tbody>\n",
       "    <tr>\n",
       "      <th>0</th>\n",
       "      <td>validation</td>\n",
       "      <td>0.100791</td>\n",
       "      <td>0.455910</td>\n",
       "      <td>0.004348</td>\n",
       "    </tr>\n",
       "    <tr>\n",
       "      <th>1</th>\n",
       "      <td>test</td>\n",
       "      <td>0.099594</td>\n",
       "      <td>0.434933</td>\n",
       "      <td>0.012201</td>\n",
       "    </tr>\n",
       "  </tbody>\n",
       "</table>\n",
       "</div>"
      ],
      "text/plain": [
       "   Unnamed: 0      NDCG       AUC        KL\n",
       "0  validation  0.100791  0.455910  0.004348\n",
       "1        test  0.099594  0.434933  0.012201"
      ]
     },
     "metadata": {},
     "output_type": "display_data"
    }
   ],
   "source": [
    "protect_item = 1\n",
    "protect_user = 0\n",
    "protect_user_item = 0\n",
    "display(get_rating_perf(protect_item, protect_user, protect_user_item))\n",
    "display(get_ranking_perf(protect_item, protect_user, protect_user_item))"
   ]
  },
  {
   "cell_type": "code",
   "execution_count": 7,
   "metadata": {},
   "outputs": [
    {
     "name": "stdout",
     "output_type": "stream",
     "text": [
      "Rating performance\n",
      "Parameters: lambda = 0.1, corr_loss = 0.5\n"
     ]
    },
    {
     "data": {
      "text/html": [
       "<div>\n",
       "<style scoped>\n",
       "    .dataframe tbody tr th:only-of-type {\n",
       "        vertical-align: middle;\n",
       "    }\n",
       "\n",
       "    .dataframe tbody tr th {\n",
       "        vertical-align: top;\n",
       "    }\n",
       "\n",
       "    .dataframe thead th {\n",
       "        text-align: right;\n",
       "    }\n",
       "</style>\n",
       "<table border=\"1\" class=\"dataframe\">\n",
       "  <thead>\n",
       "    <tr style=\"text-align: right;\">\n",
       "      <th></th>\n",
       "      <th>Unnamed: 0</th>\n",
       "      <th>MSE</th>\n",
       "      <th>MAE</th>\n",
       "      <th>F-stat</th>\n",
       "      <th>p-value</th>\n",
       "    </tr>\n",
       "  </thead>\n",
       "  <tbody>\n",
       "    <tr>\n",
       "      <th>0</th>\n",
       "      <td>validation</td>\n",
       "      <td>0.913464</td>\n",
       "      <td>0.757270</td>\n",
       "      <td>19.455213</td>\n",
       "      <td>2.043896e-19</td>\n",
       "    </tr>\n",
       "    <tr>\n",
       "      <th>1</th>\n",
       "      <td>test</td>\n",
       "      <td>0.987658</td>\n",
       "      <td>0.791637</td>\n",
       "      <td>37.212383</td>\n",
       "      <td>2.891838e-38</td>\n",
       "    </tr>\n",
       "  </tbody>\n",
       "</table>\n",
       "</div>"
      ],
      "text/plain": [
       "   Unnamed: 0       MSE       MAE     F-stat       p-value\n",
       "0  validation  0.913464  0.757270  19.455213  2.043896e-19\n",
       "1        test  0.987658  0.791637  37.212383  2.891838e-38"
      ]
     },
     "metadata": {},
     "output_type": "display_data"
    },
    {
     "name": "stdout",
     "output_type": "stream",
     "text": [
      "Ranking performance\n",
      "Parameters: lambda = 10, corr_loss = 5.0\n"
     ]
    },
    {
     "data": {
      "text/html": [
       "<div>\n",
       "<style scoped>\n",
       "    .dataframe tbody tr th:only-of-type {\n",
       "        vertical-align: middle;\n",
       "    }\n",
       "\n",
       "    .dataframe tbody tr th {\n",
       "        vertical-align: top;\n",
       "    }\n",
       "\n",
       "    .dataframe thead th {\n",
       "        text-align: right;\n",
       "    }\n",
       "</style>\n",
       "<table border=\"1\" class=\"dataframe\">\n",
       "  <thead>\n",
       "    <tr style=\"text-align: right;\">\n",
       "      <th></th>\n",
       "      <th>Unnamed: 0</th>\n",
       "      <th>NDCG</th>\n",
       "      <th>AUC</th>\n",
       "      <th>KL</th>\n",
       "    </tr>\n",
       "  </thead>\n",
       "  <tbody>\n",
       "    <tr>\n",
       "      <th>0</th>\n",
       "      <td>validation</td>\n",
       "      <td>0.099952</td>\n",
       "      <td>0.549000</td>\n",
       "      <td>0.033831</td>\n",
       "    </tr>\n",
       "    <tr>\n",
       "      <th>1</th>\n",
       "      <td>test</td>\n",
       "      <td>0.099887</td>\n",
       "      <td>0.555115</td>\n",
       "      <td>0.050626</td>\n",
       "    </tr>\n",
       "  </tbody>\n",
       "</table>\n",
       "</div>"
      ],
      "text/plain": [
       "   Unnamed: 0      NDCG       AUC        KL\n",
       "0  validation  0.099952  0.549000  0.033831\n",
       "1        test  0.099887  0.555115  0.050626"
      ]
     },
     "metadata": {},
     "output_type": "display_data"
    }
   ],
   "source": [
    "protect_item = 0\n",
    "protect_user = 1\n",
    "protect_user_item = 0\n",
    "display(get_rating_perf(protect_item, protect_user, protect_user_item))\n",
    "display(get_ranking_perf(protect_item, protect_user, protect_user_item))"
   ]
  },
  {
   "cell_type": "code",
   "execution_count": 8,
   "metadata": {},
   "outputs": [
    {
     "name": "stdout",
     "output_type": "stream",
     "text": [
      "Rating performance\n",
      "Parameters: lambda = 0.1, corr_loss = 10.0\n"
     ]
    },
    {
     "data": {
      "text/html": [
       "<div>\n",
       "<style scoped>\n",
       "    .dataframe tbody tr th:only-of-type {\n",
       "        vertical-align: middle;\n",
       "    }\n",
       "\n",
       "    .dataframe tbody tr th {\n",
       "        vertical-align: top;\n",
       "    }\n",
       "\n",
       "    .dataframe thead th {\n",
       "        text-align: right;\n",
       "    }\n",
       "</style>\n",
       "<table border=\"1\" class=\"dataframe\">\n",
       "  <thead>\n",
       "    <tr style=\"text-align: right;\">\n",
       "      <th></th>\n",
       "      <th>Unnamed: 0</th>\n",
       "      <th>MSE</th>\n",
       "      <th>MAE</th>\n",
       "      <th>F-stat</th>\n",
       "      <th>p-value</th>\n",
       "    </tr>\n",
       "  </thead>\n",
       "  <tbody>\n",
       "    <tr>\n",
       "      <th>0</th>\n",
       "      <td>validation</td>\n",
       "      <td>0.719717</td>\n",
       "      <td>0.664685</td>\n",
       "      <td>6.108318</td>\n",
       "      <td>0.000012</td>\n",
       "    </tr>\n",
       "    <tr>\n",
       "      <th>1</th>\n",
       "      <td>test</td>\n",
       "      <td>0.794757</td>\n",
       "      <td>0.700378</td>\n",
       "      <td>6.769610</td>\n",
       "      <td>0.000003</td>\n",
       "    </tr>\n",
       "  </tbody>\n",
       "</table>\n",
       "</div>"
      ],
      "text/plain": [
       "   Unnamed: 0       MSE       MAE    F-stat   p-value\n",
       "0  validation  0.719717  0.664685  6.108318  0.000012\n",
       "1        test  0.794757  0.700378  6.769610  0.000003"
      ]
     },
     "metadata": {},
     "output_type": "display_data"
    },
    {
     "name": "stdout",
     "output_type": "stream",
     "text": [
      "Ranking performance\n",
      "Parameters: lambda = 10, corr_loss = 1.0\n"
     ]
    },
    {
     "data": {
      "text/html": [
       "<div>\n",
       "<style scoped>\n",
       "    .dataframe tbody tr th:only-of-type {\n",
       "        vertical-align: middle;\n",
       "    }\n",
       "\n",
       "    .dataframe tbody tr th {\n",
       "        vertical-align: top;\n",
       "    }\n",
       "\n",
       "    .dataframe thead th {\n",
       "        text-align: right;\n",
       "    }\n",
       "</style>\n",
       "<table border=\"1\" class=\"dataframe\">\n",
       "  <thead>\n",
       "    <tr style=\"text-align: right;\">\n",
       "      <th></th>\n",
       "      <th>Unnamed: 0</th>\n",
       "      <th>NDCG</th>\n",
       "      <th>AUC</th>\n",
       "      <th>KL</th>\n",
       "    </tr>\n",
       "  </thead>\n",
       "  <tbody>\n",
       "    <tr>\n",
       "      <th>0</th>\n",
       "      <td>validation</td>\n",
       "      <td>0.103106</td>\n",
       "      <td>0.633806</td>\n",
       "      <td>0.061919</td>\n",
       "    </tr>\n",
       "    <tr>\n",
       "      <th>1</th>\n",
       "      <td>test</td>\n",
       "      <td>0.101709</td>\n",
       "      <td>0.625525</td>\n",
       "      <td>0.088172</td>\n",
       "    </tr>\n",
       "  </tbody>\n",
       "</table>\n",
       "</div>"
      ],
      "text/plain": [
       "   Unnamed: 0      NDCG       AUC        KL\n",
       "0  validation  0.103106  0.633806  0.061919\n",
       "1        test  0.101709  0.625525  0.088172"
      ]
     },
     "metadata": {},
     "output_type": "display_data"
    }
   ],
   "source": [
    "protect_item = 0\n",
    "protect_user = 0\n",
    "protect_user_item = 1\n",
    "display(get_rating_perf(protect_item, protect_user, protect_user_item))\n",
    "display(get_ranking_perf(protect_item, protect_user, protect_user_item))"
   ]
  },
  {
   "cell_type": "code",
   "execution_count": 9,
   "metadata": {},
   "outputs": [
    {
     "name": "stdout",
     "output_type": "stream",
     "text": [
      "Rating performance\n",
      "Parameters: lambda = 0.1, corr_loss = 0.5\n"
     ]
    },
    {
     "data": {
      "text/html": [
       "<div>\n",
       "<style scoped>\n",
       "    .dataframe tbody tr th:only-of-type {\n",
       "        vertical-align: middle;\n",
       "    }\n",
       "\n",
       "    .dataframe tbody tr th {\n",
       "        vertical-align: top;\n",
       "    }\n",
       "\n",
       "    .dataframe thead th {\n",
       "        text-align: right;\n",
       "    }\n",
       "</style>\n",
       "<table border=\"1\" class=\"dataframe\">\n",
       "  <thead>\n",
       "    <tr style=\"text-align: right;\">\n",
       "      <th></th>\n",
       "      <th>Unnamed: 0</th>\n",
       "      <th>MSE</th>\n",
       "      <th>MAE</th>\n",
       "      <th>F-stat</th>\n",
       "      <th>p-value</th>\n",
       "    </tr>\n",
       "  </thead>\n",
       "  <tbody>\n",
       "    <tr>\n",
       "      <th>0</th>\n",
       "      <td>validation</td>\n",
       "      <td>0.927266</td>\n",
       "      <td>0.762015</td>\n",
       "      <td>14.243179</td>\n",
       "      <td>5.815740e-14</td>\n",
       "    </tr>\n",
       "    <tr>\n",
       "      <th>1</th>\n",
       "      <td>test</td>\n",
       "      <td>1.009244</td>\n",
       "      <td>0.799807</td>\n",
       "      <td>30.942462</td>\n",
       "      <td>1.384173e-31</td>\n",
       "    </tr>\n",
       "  </tbody>\n",
       "</table>\n",
       "</div>"
      ],
      "text/plain": [
       "   Unnamed: 0       MSE       MAE     F-stat       p-value\n",
       "0  validation  0.927266  0.762015  14.243179  5.815740e-14\n",
       "1        test  1.009244  0.799807  30.942462  1.384173e-31"
      ]
     },
     "metadata": {},
     "output_type": "display_data"
    },
    {
     "name": "stdout",
     "output_type": "stream",
     "text": [
      "Ranking performance\n",
      "Parameters: lambda = 10, corr_loss = 5.0\n"
     ]
    },
    {
     "data": {
      "text/html": [
       "<div>\n",
       "<style scoped>\n",
       "    .dataframe tbody tr th:only-of-type {\n",
       "        vertical-align: middle;\n",
       "    }\n",
       "\n",
       "    .dataframe tbody tr th {\n",
       "        vertical-align: top;\n",
       "    }\n",
       "\n",
       "    .dataframe thead th {\n",
       "        text-align: right;\n",
       "    }\n",
       "</style>\n",
       "<table border=\"1\" class=\"dataframe\">\n",
       "  <thead>\n",
       "    <tr style=\"text-align: right;\">\n",
       "      <th></th>\n",
       "      <th>Unnamed: 0</th>\n",
       "      <th>NDCG</th>\n",
       "      <th>AUC</th>\n",
       "      <th>KL</th>\n",
       "    </tr>\n",
       "  </thead>\n",
       "  <tbody>\n",
       "    <tr>\n",
       "      <th>0</th>\n",
       "      <td>validation</td>\n",
       "      <td>0.098138</td>\n",
       "      <td>0.475854</td>\n",
       "      <td>0.023801</td>\n",
       "    </tr>\n",
       "    <tr>\n",
       "      <th>1</th>\n",
       "      <td>test</td>\n",
       "      <td>0.097499</td>\n",
       "      <td>0.469434</td>\n",
       "      <td>0.036402</td>\n",
       "    </tr>\n",
       "  </tbody>\n",
       "</table>\n",
       "</div>"
      ],
      "text/plain": [
       "   Unnamed: 0      NDCG       AUC        KL\n",
       "0  validation  0.098138  0.475854  0.023801\n",
       "1        test  0.097499  0.469434  0.036402"
      ]
     },
     "metadata": {},
     "output_type": "display_data"
    }
   ],
   "source": [
    "protect_item = 1\n",
    "protect_user = 1\n",
    "protect_user_item = 0\n",
    "display(get_rating_perf(protect_item, protect_user, protect_user_item))\n",
    "display(get_ranking_perf(protect_item, protect_user, protect_user_item))"
   ]
  },
  {
   "cell_type": "code",
   "execution_count": 10,
   "metadata": {
    "scrolled": true
   },
   "outputs": [
    {
     "name": "stdout",
     "output_type": "stream",
     "text": [
      "Rating performance\n",
      "Parameters: lambda = 0.1, corr_loss = 0.5\n"
     ]
    },
    {
     "data": {
      "text/html": [
       "<div>\n",
       "<style scoped>\n",
       "    .dataframe tbody tr th:only-of-type {\n",
       "        vertical-align: middle;\n",
       "    }\n",
       "\n",
       "    .dataframe tbody tr th {\n",
       "        vertical-align: top;\n",
       "    }\n",
       "\n",
       "    .dataframe thead th {\n",
       "        text-align: right;\n",
       "    }\n",
       "</style>\n",
       "<table border=\"1\" class=\"dataframe\">\n",
       "  <thead>\n",
       "    <tr style=\"text-align: right;\">\n",
       "      <th></th>\n",
       "      <th>Unnamed: 0</th>\n",
       "      <th>MSE</th>\n",
       "      <th>MAE</th>\n",
       "      <th>F-stat</th>\n",
       "      <th>p-value</th>\n",
       "    </tr>\n",
       "  </thead>\n",
       "  <tbody>\n",
       "    <tr>\n",
       "      <th>0</th>\n",
       "      <td>validation</td>\n",
       "      <td>0.946755</td>\n",
       "      <td>0.769718</td>\n",
       "      <td>15.172153</td>\n",
       "      <td>6.266685e-15</td>\n",
       "    </tr>\n",
       "    <tr>\n",
       "      <th>1</th>\n",
       "      <td>test</td>\n",
       "      <td>1.026092</td>\n",
       "      <td>0.807680</td>\n",
       "      <td>29.249012</td>\n",
       "      <td>8.741459e-30</td>\n",
       "    </tr>\n",
       "  </tbody>\n",
       "</table>\n",
       "</div>"
      ],
      "text/plain": [
       "   Unnamed: 0       MSE       MAE     F-stat       p-value\n",
       "0  validation  0.946755  0.769718  15.172153  6.266685e-15\n",
       "1        test  1.026092  0.807680  29.249012  8.741459e-30"
      ]
     },
     "metadata": {},
     "output_type": "display_data"
    },
    {
     "name": "stdout",
     "output_type": "stream",
     "text": [
      "Ranking performance\n",
      "Parameters: lambda = 10, corr_loss = 5.0\n"
     ]
    },
    {
     "data": {
      "text/html": [
       "<div>\n",
       "<style scoped>\n",
       "    .dataframe tbody tr th:only-of-type {\n",
       "        vertical-align: middle;\n",
       "    }\n",
       "\n",
       "    .dataframe tbody tr th {\n",
       "        vertical-align: top;\n",
       "    }\n",
       "\n",
       "    .dataframe thead th {\n",
       "        text-align: right;\n",
       "    }\n",
       "</style>\n",
       "<table border=\"1\" class=\"dataframe\">\n",
       "  <thead>\n",
       "    <tr style=\"text-align: right;\">\n",
       "      <th></th>\n",
       "      <th>Unnamed: 0</th>\n",
       "      <th>NDCG</th>\n",
       "      <th>AUC</th>\n",
       "      <th>KL</th>\n",
       "    </tr>\n",
       "  </thead>\n",
       "  <tbody>\n",
       "    <tr>\n",
       "      <th>0</th>\n",
       "      <td>validation</td>\n",
       "      <td>0.098575</td>\n",
       "      <td>0.480473</td>\n",
       "      <td>0.041988</td>\n",
       "    </tr>\n",
       "    <tr>\n",
       "      <th>1</th>\n",
       "      <td>test</td>\n",
       "      <td>0.097800</td>\n",
       "      <td>0.474950</td>\n",
       "      <td>0.058190</td>\n",
       "    </tr>\n",
       "  </tbody>\n",
       "</table>\n",
       "</div>"
      ],
      "text/plain": [
       "   Unnamed: 0      NDCG       AUC        KL\n",
       "0  validation  0.098575  0.480473  0.041988\n",
       "1        test  0.097800  0.474950  0.058190"
      ]
     },
     "metadata": {},
     "output_type": "display_data"
    }
   ],
   "source": [
    "protect_item = 1\n",
    "protect_user = 1\n",
    "protect_user_item = 1\n",
    "display(get_rating_perf(protect_item, protect_user, protect_user_item))\n",
    "display(get_ranking_perf(protect_item, protect_user, protect_user_item))"
   ]
  },
  {
   "cell_type": "markdown",
   "metadata": {},
   "source": [
    "## Get errors for each test sample"
   ]
  },
  {
   "cell_type": "code",
   "execution_count": 11,
   "metadata": {},
   "outputs": [
    {
     "data": {
      "text/html": [
       "<div>\n",
       "<style scoped>\n",
       "    .dataframe tbody tr th:only-of-type {\n",
       "        vertical-align: middle;\n",
       "    }\n",
       "\n",
       "    .dataframe tbody tr th {\n",
       "        vertical-align: top;\n",
       "    }\n",
       "\n",
       "    .dataframe thead th {\n",
       "        text-align: right;\n",
       "    }\n",
       "</style>\n",
       "<table border=\"1\" class=\"dataframe\">\n",
       "  <thead>\n",
       "    <tr style=\"text-align: right;\">\n",
       "      <th></th>\n",
       "      <th>user_id</th>\n",
       "      <th>item_id</th>\n",
       "      <th>rating</th>\n",
       "      <th>timestamp</th>\n",
       "      <th>movie_id</th>\n",
       "      <th>title</th>\n",
       "      <th>genres</th>\n",
       "      <th>model_attr</th>\n",
       "      <th>user_attr</th>\n",
       "      <th>split</th>\n",
       "    </tr>\n",
       "  </thead>\n",
       "  <tbody>\n",
       "    <tr>\n",
       "      <th>0</th>\n",
       "      <td>1</td>\n",
       "      <td>3186</td>\n",
       "      <td>4</td>\n",
       "      <td>978300019</td>\n",
       "      <td>3186</td>\n",
       "      <td>Girl, Interrupted (1999)</td>\n",
       "      <td>Drama</td>\n",
       "      <td>F</td>\n",
       "      <td>F</td>\n",
       "      <td>0</td>\n",
       "    </tr>\n",
       "    <tr>\n",
       "      <th>1</th>\n",
       "      <td>1</td>\n",
       "      <td>1721</td>\n",
       "      <td>4</td>\n",
       "      <td>978300055</td>\n",
       "      <td>1721</td>\n",
       "      <td>Titanic (1997)</td>\n",
       "      <td>Drama|Romance</td>\n",
       "      <td>M</td>\n",
       "      <td>F</td>\n",
       "      <td>0</td>\n",
       "    </tr>\n",
       "    <tr>\n",
       "      <th>2</th>\n",
       "      <td>1</td>\n",
       "      <td>1022</td>\n",
       "      <td>5</td>\n",
       "      <td>978300055</td>\n",
       "      <td>1022</td>\n",
       "      <td>Cinderella (1950)</td>\n",
       "      <td>Animation|Children's|Musical</td>\n",
       "      <td>F</td>\n",
       "      <td>F</td>\n",
       "      <td>0</td>\n",
       "    </tr>\n",
       "    <tr>\n",
       "      <th>3</th>\n",
       "      <td>1</td>\n",
       "      <td>1270</td>\n",
       "      <td>5</td>\n",
       "      <td>978300055</td>\n",
       "      <td>1270</td>\n",
       "      <td>Back to the Future (1985)</td>\n",
       "      <td>Comedy|Sci-Fi</td>\n",
       "      <td>M</td>\n",
       "      <td>F</td>\n",
       "      <td>0</td>\n",
       "    </tr>\n",
       "    <tr>\n",
       "      <th>4</th>\n",
       "      <td>1</td>\n",
       "      <td>2340</td>\n",
       "      <td>3</td>\n",
       "      <td>978300103</td>\n",
       "      <td>2340</td>\n",
       "      <td>Meet Joe Black (1998)</td>\n",
       "      <td>Romance</td>\n",
       "      <td>F</td>\n",
       "      <td>F</td>\n",
       "      <td>0</td>\n",
       "    </tr>\n",
       "  </tbody>\n",
       "</table>\n",
       "</div>"
      ],
      "text/plain": [
       "   user_id  item_id  rating  timestamp  movie_id                      title  \\\n",
       "0        1     3186       4  978300019      3186   Girl, Interrupted (1999)   \n",
       "1        1     1721       4  978300055      1721             Titanic (1997)   \n",
       "2        1     1022       5  978300055      1022          Cinderella (1950)   \n",
       "3        1     1270       5  978300055      1270  Back to the Future (1985)   \n",
       "4        1     2340       3  978300103      2340      Meet Joe Black (1998)   \n",
       "\n",
       "                         genres model_attr user_attr  split  \n",
       "0                         Drama          F         F      0  \n",
       "1                 Drama|Romance          M         F      0  \n",
       "2  Animation|Children's|Musical          F         F      0  \n",
       "3                 Comedy|Sci-Fi          M         F      0  \n",
       "4                       Romance          F         F      0  "
      ]
     },
     "execution_count": 11,
     "metadata": {},
     "output_type": "execute_result"
    }
   ],
   "source": [
    "data_df = pd.read_csv('./data/df_movielens_1m.csv')\n",
    "data_df.head()"
   ]
  },
  {
   "cell_type": "code",
   "execution_count": 12,
   "metadata": {},
   "outputs": [],
   "source": [
    "SEGMENTS = [('M', 'M'), ('M', 'F'), ('M', 'MF'),\n",
    "            ('F', 'F'), ('F', 'M'), ('F', 'MF')]"
   ]
  },
  {
   "cell_type": "code",
   "execution_count": 13,
   "metadata": {},
   "outputs": [],
   "source": [
    "alldata_segment_sizes = {}\n",
    "for (u, m) in SEGMENTS:\n",
    "    subset_df = data_df[(data_df['user_attr'] == u) &\n",
    "                        (data_df['model_attr'] == m)]\n",
    "    alldata_segment_sizes[(u, m)] = len(subset_df)\n",
    "seg_order, seg_counts = zip(*sorted(\n",
    "    alldata_segment_sizes.items(), key=lambda tup: -tup[1]))\n",
    "seg_prop = np.array(seg_counts) / len(data_df)"
   ]
  },
  {
   "cell_type": "code",
   "execution_count": 14,
   "metadata": {},
   "outputs": [],
   "source": [
    "training_data = data_df[data_df['split'] == 0]\n",
    "segment_sizes = {}\n",
    "for (u, m) in SEGMENTS:\n",
    "    subset_df = training_data[(training_data['user_attr'] == u) &\n",
    "                              (training_data['model_attr'] == m)]\n",
    "    segment_sizes[(u, m)] = len(subset_df)"
   ]
  },
  {
   "cell_type": "code",
   "execution_count": 15,
   "metadata": {},
   "outputs": [],
   "source": [
    "hue_order, seg_counts = zip(*sorted(segment_sizes.items(), key=lambda tup: -tup[1]))"
   ]
  },
  {
   "cell_type": "code",
   "execution_count": 16,
   "metadata": {},
   "outputs": [],
   "source": [
    "performance = []\n",
    "\n",
    "for fp in glob(os.path.join(TEST_RESULT_DIR, '*_rating_test.csv')):\n",
    "    fn = os.path.basename(fp)\n",
    "    C = fn.split('MF')[1].split('_')[1]\n",
    "    lbda = fn.split('MF')[1].split('_')[4]\n",
    "    m, u, mu = fn.split('MF')[1].split('_')[6:9]\n",
    "    if C == '0':\n",
    "            model = 'standard MF'\n",
    "    else: \n",
    "        model = '({0}, {1}, {2})'.format(m, u, mu)\n",
    "    test_df = pd.read_csv(fp)\n",
    "    for (u_attr, m_attr) in SEGMENTS:\n",
    "        subset_df = test_df[(test_df['user_attr'] == u_attr) &\n",
    "                            (test_df['model_attr'] == m_attr)]\n",
    "        remaining_df = test_df[~((test_df['user_attr'] == u_attr) &\n",
    "                                 (test_df['model_attr'] == m_attr))]\n",
    "        in_mse = np.mean(subset_df['error'].values**2)\n",
    "        out_mse = np.mean(remaining_df['error'].values**2)\n",
    "        performance.append({\n",
    "            'protect_movie': m, \n",
    "            'protect_user': u,\n",
    "            'protect_user_movie': mu,\n",
    "            'model': model,\n",
    "            'MSE': in_mse,\n",
    "            'MSE(out) - MSE(in)': out_mse - in_mse,\n",
    "            'segment': 'user = {0}, movie = {1}'.format(u_attr, m_attr),\n",
    "            'user_attr': u_attr,\n",
    "            'movie_attr': m_attr\n",
    "        })"
   ]
  },
  {
   "cell_type": "code",
   "execution_count": 17,
   "metadata": {},
   "outputs": [],
   "source": [
    "segment_df = pd.DataFrame(performance)\n",
    "segment_df['model'] = pd.Categorical(\n",
    "    segment_df['model'], \n",
    "    categories=['standard MF', \n",
    "                '(0, 0, 1)',\n",
    "                '(0, 1, 0)',\n",
    "                '(1, 0, 0)',\n",
    "                '(1, 1, 0)', \n",
    "                '(1, 1, 1)'],\n",
    "    ordered=True)"
   ]
  },
  {
   "cell_type": "code",
   "execution_count": 28,
   "metadata": {},
   "outputs": [
    {
     "data": {
      "image/png": "[encoded data removed]",
      "text/plain": [
       "<Figure size 1296x864 with 2 Axes>"
      ]
     },
     "metadata": {
      "needs_background": "light"
     },
     "output_type": "display_data"
    }
   ],
   "source": [
    "f, (ax1, ax2) = plt.subplots(1, 2, figsize=(18, 12), sharex=True)\n",
    "sns.barplot(ax=ax1, data=segment_df, x='model', y='MSE', hue='segment',\n",
    "            palette={\n",
    "                'user = M, movie = M': '#cf6119',\n",
    "                'user = M, movie = F': '#ff5c33',\n",
    "                'user = M, movie = MF': '#cf6119',\n",
    "                'user = F, movie = F': '#42bda2',\n",
    "                'user = F, movie = M': '#00ffdd',\n",
    "                'user = F, movie = MF': '#42bda2'}, \n",
    "            hue_order=['user = {0}, movie = {1}'.format(u, m) for (u, m) in hue_order])\n",
    "sns.barplot(ax=ax2, data=segment_df, x='model', y='MSE(out) - MSE(in)', hue='segment',\n",
    "            palette={\n",
    "                'user = M, movie = M': '#cf6119',\n",
    "                'user = M, movie = F': '#ff5c33',\n",
    "                'user = M, movie = MF': '#cf6119',\n",
    "                'user = F, movie = F': '#42bda2',\n",
    "                'user = F, movie = M': '#00ffdd',\n",
    "                'user = F, movie = MF': '#42bda2'\n",
    "            }, \n",
    "            hue_order=['user = {0}, movie = {1}'.format(u, m) for (u, m) in hue_order])\n",
    "ax1.set_title('Ratings prediction accuracy (MSE) across segments and MF models')\n",
    "ax2.set_title('Difference between out-segment MSEs and in-segment MSEs')\n",
    "plt.savefig(os.path.join(OUTPUT_DIR, 'movielens.MF.ratings_MSE.pdf'), dpi=300)"
   ]
  }
 ],
 "metadata": {
  "kernelspec": {
   "display_name": "Python [conda env:mbt-envj] *",
   "language": "python",
   "name": "conda-env-mbt-envj-py"
  },
  "language_info": {
   "codemirror_mode": {
    "name": "ipython",
    "version": 3
   },
   "file_extension": ".py",
   "mimetype": "text/x-python",
   "name": "python",
   "nbconvert_exporter": "python",
   "pygments_lexer": "ipython3",
   "version": "3.6.3"
  }
 },
 "nbformat": 4,
 "nbformat_minor": 2
}
