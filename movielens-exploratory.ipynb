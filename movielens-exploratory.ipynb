{
 "cells": [
  {
   "cell_type": "markdown",
   "metadata": {},
   "source": [
    "This notebook is used to do some exploratory analyses on the MovieLens 1m dataset"
   ]
  },
  {
   "cell_type": "code",
   "execution_count": 1,
   "metadata": {},
   "outputs": [],
   "source": [
    "import os\n",
    "from collections import defaultdict\n",
    "from datetime import datetime, timedelta\n",
    "\n",
    "import h5py\n",
    "import numpy as np\n",
    "import pandas as pd\n",
    "import matplotlib._color_data as mcd\n",
    "import matplotlib.pyplot as plt\n",
    "import matplotlib.colors as colors\n",
    "import matplotlib as mpl\n",
    "from matplotlib import gridspec\n",
    "from scipy.stats import mannwhitneyu\n",
    "import seaborn as sns \n",
    "\n",
    "plt.style.use('seaborn-white')\n",
    "import matplotlib as mpl\n",
    "\n",
    "mpl.rcParams['axes.spines.right'] = False\n",
    "mpl.rcParams['axes.spines.top'] = False\n",
    "mpl.rcParams['pdf.fonttype'] = 42\n",
    "mpl.rcParams['ps.fonttype'] = 42\n",
    "mpl.rc('xtick', labelsize=14)\n",
    "mpl.rc('ytick', labelsize=14)\n",
    "mpl.rc('axes', titlesize=16)\n",
    "mpl.rc('legend', fontsize=14)\n"
   ]
  },
  {
   "cell_type": "code",
   "execution_count": 2,
   "metadata": {},
   "outputs": [],
   "source": [
    "DATA_DIR = './data/ml-1m'\n",
    "OUTPUT_DIR = './figures'"
   ]
  },
  {
   "cell_type": "code",
   "execution_count": 3,
   "metadata": {},
   "outputs": [
    {
     "data": {
      "text/html": [
       "<div>\n",
       "<style scoped>\n",
       "    .dataframe tbody tr th:only-of-type {\n",
       "        vertical-align: middle;\n",
       "    }\n",
       "\n",
       "    .dataframe tbody tr th {\n",
       "        vertical-align: top;\n",
       "    }\n",
       "\n",
       "    .dataframe thead th {\n",
       "        text-align: right;\n",
       "    }\n",
       "</style>\n",
       "<table border=\"1\" class=\"dataframe\">\n",
       "  <thead>\n",
       "    <tr style=\"text-align: right;\">\n",
       "      <th></th>\n",
       "      <th>user_id</th>\n",
       "      <th>movie_id</th>\n",
       "      <th>rating</th>\n",
       "      <th>timestamp</th>\n",
       "    </tr>\n",
       "  </thead>\n",
       "  <tbody>\n",
       "    <tr>\n",
       "      <th>0</th>\n",
       "      <td>1</td>\n",
       "      <td>1193</td>\n",
       "      <td>5</td>\n",
       "      <td>978300760</td>\n",
       "    </tr>\n",
       "    <tr>\n",
       "      <th>1</th>\n",
       "      <td>1</td>\n",
       "      <td>661</td>\n",
       "      <td>3</td>\n",
       "      <td>978302109</td>\n",
       "    </tr>\n",
       "    <tr>\n",
       "      <th>2</th>\n",
       "      <td>1</td>\n",
       "      <td>914</td>\n",
       "      <td>3</td>\n",
       "      <td>978301968</td>\n",
       "    </tr>\n",
       "    <tr>\n",
       "      <th>3</th>\n",
       "      <td>1</td>\n",
       "      <td>3408</td>\n",
       "      <td>4</td>\n",
       "      <td>978300275</td>\n",
       "    </tr>\n",
       "    <tr>\n",
       "      <th>4</th>\n",
       "      <td>1</td>\n",
       "      <td>2355</td>\n",
       "      <td>5</td>\n",
       "      <td>978824291</td>\n",
       "    </tr>\n",
       "  </tbody>\n",
       "</table>\n",
       "</div>"
      ],
      "text/plain": [
       "   user_id  movie_id  rating  timestamp\n",
       "0        1      1193       5  978300760\n",
       "1        1       661       3  978302109\n",
       "2        1       914       3  978301968\n",
       "3        1      3408       4  978300275\n",
       "4        1      2355       5  978824291"
      ]
     },
     "execution_count": 3,
     "metadata": {},
     "output_type": "execute_result"
    }
   ],
   "source": [
    "ratings = pd.read_csv(os.path.join(DATA_DIR, 'ratings.dat'), sep='::', engine='python', header=None)\n",
    "ratings.columns = ['user_id', 'movie_id', 'rating', 'timestamp']\n",
    "ratings.head()"
   ]
  },
  {
   "cell_type": "code",
   "execution_count": 4,
   "metadata": {},
   "outputs": [
    {
     "data": {
      "text/html": [
       "<div>\n",
       "<style scoped>\n",
       "    .dataframe tbody tr th:only-of-type {\n",
       "        vertical-align: middle;\n",
       "    }\n",
       "\n",
       "    .dataframe tbody tr th {\n",
       "        vertical-align: top;\n",
       "    }\n",
       "\n",
       "    .dataframe thead th {\n",
       "        text-align: right;\n",
       "    }\n",
       "</style>\n",
       "<table border=\"1\" class=\"dataframe\">\n",
       "  <thead>\n",
       "    <tr style=\"text-align: right;\">\n",
       "      <th></th>\n",
       "      <th>user_id</th>\n",
       "      <th>gender</th>\n",
       "      <th>age</th>\n",
       "      <th>occupation</th>\n",
       "      <th>zip_code</th>\n",
       "    </tr>\n",
       "  </thead>\n",
       "  <tbody>\n",
       "    <tr>\n",
       "      <th>0</th>\n",
       "      <td>1</td>\n",
       "      <td>F</td>\n",
       "      <td>1</td>\n",
       "      <td>10</td>\n",
       "      <td>48067</td>\n",
       "    </tr>\n",
       "    <tr>\n",
       "      <th>1</th>\n",
       "      <td>2</td>\n",
       "      <td>M</td>\n",
       "      <td>56</td>\n",
       "      <td>16</td>\n",
       "      <td>70072</td>\n",
       "    </tr>\n",
       "    <tr>\n",
       "      <th>2</th>\n",
       "      <td>3</td>\n",
       "      <td>M</td>\n",
       "      <td>25</td>\n",
       "      <td>15</td>\n",
       "      <td>55117</td>\n",
       "    </tr>\n",
       "    <tr>\n",
       "      <th>3</th>\n",
       "      <td>4</td>\n",
       "      <td>M</td>\n",
       "      <td>45</td>\n",
       "      <td>7</td>\n",
       "      <td>02460</td>\n",
       "    </tr>\n",
       "    <tr>\n",
       "      <th>4</th>\n",
       "      <td>5</td>\n",
       "      <td>M</td>\n",
       "      <td>25</td>\n",
       "      <td>20</td>\n",
       "      <td>55455</td>\n",
       "    </tr>\n",
       "  </tbody>\n",
       "</table>\n",
       "</div>"
      ],
      "text/plain": [
       "   user_id gender  age  occupation zip_code\n",
       "0        1      F    1          10    48067\n",
       "1        2      M   56          16    70072\n",
       "2        3      M   25          15    55117\n",
       "3        4      M   45           7    02460\n",
       "4        5      M   25          20    55455"
      ]
     },
     "execution_count": 4,
     "metadata": {},
     "output_type": "execute_result"
    }
   ],
   "source": [
    "users = pd.read_csv(os.path.join(DATA_DIR, 'users.dat'), sep='::', engine='python', header=None)\n",
    "users.columns = ['user_id', 'gender', 'age', 'occupation', 'zip_code']\n",
    "users.head()"
   ]
  },
  {
   "cell_type": "code",
   "execution_count": 5,
   "metadata": {},
   "outputs": [],
   "source": [
    "# age and occupation currently not used\n",
    "age_mapping = {  \n",
    "    1:  \"<18\",\n",
    "    18:  \"18-24\",\n",
    "    25:  \"25-34\",\n",
    "    35:  \"35-44\",\n",
    "    45:  \"45-49\", \n",
    "    50:  \"50-55\",\n",
    "    56:  \">56\"\n",
    "}\n",
    "\n",
    "occupation_mapping = {\n",
    "    0:  \"other\",\n",
    "    1:  \"academic/educator\",\n",
    "    2:  \"artist\",\n",
    "    3:  \"clerical/admin\",\n",
    "    4:  \"college/grad student\",\n",
    "    5:  \"customer service\",\n",
    "    6:  \"doctor/health care\",\n",
    "    7:  \"executive/managerial\",\n",
    "    8:  \"farmer\",\n",
    "    9:  \"homemaker\",\n",
    "    10: \"K-12 student\",\n",
    "    11: \"lawyer\",\n",
    "    12: \"programmer\",\n",
    "    13: \"retired\",\n",
    "    14: \"sales/marketing\",\n",
    "    15: \"scientist\",\n",
    "    16: \"self-employed\",\n",
    "    17: \"technician/engineer\",\n",
    "    18: \"tradesman/craftsman\",\n",
    "    19: \"unemployed\",\n",
    "    20: \"writer\",\n",
    "}\n",
    "\n",
    "# assignment based on https://www.statista.com/statistics/254115/favorite-movie-genres-in-the-us/#:~:text=The%20study%20revealed%20that%20comedy,and%20action%20were%20similarly%20popular.\n",
    "# TODO try to come up with better way\n",
    "movie_stereotype_map = {\n",
    "    \"Action\": 'M',\n",
    "    \"Adventure\": 'M',\n",
    "    \"Animation\": 'F',\n",
    "    \"Children's\": 'NA',  # F\n",
    "    \"Comedy\": 'NA',  # F\n",
    "    \"Crime\": 'M',\n",
    "    \"Documentary\": 'NA',  # F\n",
    "    \"Drama\": 'F',\n",
    "    \"Fantasy\": 'NA',  # M\n",
    "    \"Film-Noir\": 'M',\n",
    "    \"Horror\": 'M',\n",
    "    \"Musical\": 'F',\n",
    "    \"Mystery\": 'NA',  # M\n",
    "    \"Romance\": 'F',\n",
    "    \"Sci-Fi\": 'M',\n",
    "    \"Thriller\": 'NA',  # M\n",
    "    \"War\": 'M',\n",
    "    \"Western\": 'M'\n",
    "}"
   ]
  },
  {
   "cell_type": "code",
   "execution_count": 6,
   "metadata": {},
   "outputs": [
    {
     "data": {
      "text/html": [
       "<div>\n",
       "<style scoped>\n",
       "    .dataframe tbody tr th:only-of-type {\n",
       "        vertical-align: middle;\n",
       "    }\n",
       "\n",
       "    .dataframe tbody tr th {\n",
       "        vertical-align: top;\n",
       "    }\n",
       "\n",
       "    .dataframe thead th {\n",
       "        text-align: right;\n",
       "    }\n",
       "</style>\n",
       "<table border=\"1\" class=\"dataframe\">\n",
       "  <thead>\n",
       "    <tr style=\"text-align: right;\">\n",
       "      <th></th>\n",
       "      <th>user_id</th>\n",
       "      <th>gender</th>\n",
       "      <th>age</th>\n",
       "      <th>occupation</th>\n",
       "      <th>zip_code</th>\n",
       "    </tr>\n",
       "  </thead>\n",
       "  <tbody>\n",
       "    <tr>\n",
       "      <th>0</th>\n",
       "      <td>1</td>\n",
       "      <td>F</td>\n",
       "      <td>&lt;18</td>\n",
       "      <td>10</td>\n",
       "      <td>48067</td>\n",
       "    </tr>\n",
       "    <tr>\n",
       "      <th>1</th>\n",
       "      <td>2</td>\n",
       "      <td>M</td>\n",
       "      <td>&gt;56</td>\n",
       "      <td>16</td>\n",
       "      <td>70072</td>\n",
       "    </tr>\n",
       "    <tr>\n",
       "      <th>2</th>\n",
       "      <td>3</td>\n",
       "      <td>M</td>\n",
       "      <td>25-34</td>\n",
       "      <td>15</td>\n",
       "      <td>55117</td>\n",
       "    </tr>\n",
       "    <tr>\n",
       "      <th>3</th>\n",
       "      <td>4</td>\n",
       "      <td>M</td>\n",
       "      <td>45-49</td>\n",
       "      <td>7</td>\n",
       "      <td>02460</td>\n",
       "    </tr>\n",
       "    <tr>\n",
       "      <th>4</th>\n",
       "      <td>5</td>\n",
       "      <td>M</td>\n",
       "      <td>25-34</td>\n",
       "      <td>20</td>\n",
       "      <td>55455</td>\n",
       "    </tr>\n",
       "  </tbody>\n",
       "</table>\n",
       "</div>"
      ],
      "text/plain": [
       "   user_id gender    age  occupation zip_code\n",
       "0        1      F    <18          10    48067\n",
       "1        2      M    >56          16    70072\n",
       "2        3      M  25-34          15    55117\n",
       "3        4      M  45-49           7    02460\n",
       "4        5      M  25-34          20    55455"
      ]
     },
     "execution_count": 6,
     "metadata": {},
     "output_type": "execute_result"
    }
   ],
   "source": [
    "users = users.replace({'age': age_mapping})\n",
    "users.head()"
   ]
  },
  {
   "cell_type": "code",
   "execution_count": 7,
   "metadata": {},
   "outputs": [],
   "source": [
    "result = users.groupby(['gender', 'age']).size() / len(users)\n",
    "result = result.reindex([('F', v) for v in age_mapping.values()] + [('M', v) for v in age_mapping.values()])"
   ]
  },
  {
   "cell_type": "code",
   "execution_count": 8,
   "metadata": {},
   "outputs": [],
   "source": [
    "GENDER_COLORS = {\n",
    "    'F': '#55c9b8',\n",
    "    'M': '#c95226'\n",
    "}"
   ]
  },
  {
   "cell_type": "code",
   "execution_count": 9,
   "metadata": {},
   "outputs": [
    {
     "data": {
      "image/png": "[encoded data removed]",
      "text/plain": [
       "<Figure size 360x216 with 1 Axes>"
      ]
     },
     "metadata": {},
     "output_type": "display_data"
    }
   ],
   "source": [
    "plt.figure(figsize=(5, 3))\n",
    "plt.title('Proportion of MovieLens 1M users\\nby gender and age', fontsize=14)\n",
    "result.plot.bar(color=[GENDER_COLORS[k[0]] for k in result.index.tolist()])\n",
    "plt.ylabel('Proportion', fontsize=14)\n",
    "plt.xlabel('Gender and age group', fontsize=14)\n",
    "plt.savefig(os.path.join(OUTPUT_DIR, 'movielens.prop_users.gender_age.pdf'), dpi=300)"
   ]
  },
  {
   "cell_type": "code",
   "execution_count": 10,
   "metadata": {},
   "outputs": [],
   "source": [
    "ratings = pd.merge(left=ratings, right=users, left_on='user_id', right_on='user_id')"
   ]
  },
  {
   "cell_type": "code",
   "execution_count": 11,
   "metadata": {},
   "outputs": [
    {
     "data": {
      "text/html": [
       "<div>\n",
       "<style scoped>\n",
       "    .dataframe tbody tr th:only-of-type {\n",
       "        vertical-align: middle;\n",
       "    }\n",
       "\n",
       "    .dataframe tbody tr th {\n",
       "        vertical-align: top;\n",
       "    }\n",
       "\n",
       "    .dataframe thead th {\n",
       "        text-align: right;\n",
       "    }\n",
       "</style>\n",
       "<table border=\"1\" class=\"dataframe\">\n",
       "  <thead>\n",
       "    <tr style=\"text-align: right;\">\n",
       "      <th></th>\n",
       "      <th>user_id</th>\n",
       "      <th>movie_id</th>\n",
       "      <th>rating</th>\n",
       "      <th>timestamp</th>\n",
       "      <th>gender</th>\n",
       "      <th>age</th>\n",
       "      <th>occupation</th>\n",
       "      <th>zip_code</th>\n",
       "    </tr>\n",
       "  </thead>\n",
       "  <tbody>\n",
       "    <tr>\n",
       "      <th>0</th>\n",
       "      <td>1</td>\n",
       "      <td>1193</td>\n",
       "      <td>5</td>\n",
       "      <td>978300760</td>\n",
       "      <td>F</td>\n",
       "      <td>&lt;18</td>\n",
       "      <td>10</td>\n",
       "      <td>48067</td>\n",
       "    </tr>\n",
       "    <tr>\n",
       "      <th>1</th>\n",
       "      <td>1</td>\n",
       "      <td>661</td>\n",
       "      <td>3</td>\n",
       "      <td>978302109</td>\n",
       "      <td>F</td>\n",
       "      <td>&lt;18</td>\n",
       "      <td>10</td>\n",
       "      <td>48067</td>\n",
       "    </tr>\n",
       "    <tr>\n",
       "      <th>2</th>\n",
       "      <td>1</td>\n",
       "      <td>914</td>\n",
       "      <td>3</td>\n",
       "      <td>978301968</td>\n",
       "      <td>F</td>\n",
       "      <td>&lt;18</td>\n",
       "      <td>10</td>\n",
       "      <td>48067</td>\n",
       "    </tr>\n",
       "    <tr>\n",
       "      <th>3</th>\n",
       "      <td>1</td>\n",
       "      <td>3408</td>\n",
       "      <td>4</td>\n",
       "      <td>978300275</td>\n",
       "      <td>F</td>\n",
       "      <td>&lt;18</td>\n",
       "      <td>10</td>\n",
       "      <td>48067</td>\n",
       "    </tr>\n",
       "    <tr>\n",
       "      <th>4</th>\n",
       "      <td>1</td>\n",
       "      <td>2355</td>\n",
       "      <td>5</td>\n",
       "      <td>978824291</td>\n",
       "      <td>F</td>\n",
       "      <td>&lt;18</td>\n",
       "      <td>10</td>\n",
       "      <td>48067</td>\n",
       "    </tr>\n",
       "  </tbody>\n",
       "</table>\n",
       "</div>"
      ],
      "text/plain": [
       "   user_id  movie_id  rating  timestamp gender  age  occupation zip_code\n",
       "0        1      1193       5  978300760      F  <18          10    48067\n",
       "1        1       661       3  978302109      F  <18          10    48067\n",
       "2        1       914       3  978301968      F  <18          10    48067\n",
       "3        1      3408       4  978300275      F  <18          10    48067\n",
       "4        1      2355       5  978824291      F  <18          10    48067"
      ]
     },
     "execution_count": 11,
     "metadata": {},
     "output_type": "execute_result"
    }
   ],
   "source": [
    "ratings.head()"
   ]
  },
  {
   "cell_type": "code",
   "execution_count": 47,
   "metadata": {},
   "outputs": [
    {
     "data": {
      "text/plain": [
       "Text(0.5, 0, 'Gender and age group')"
      ]
     },
     "execution_count": 47,
     "metadata": {},
     "output_type": "execute_result"
    },
    {
     "data": {
      "image/png": "[encoded data removed]",
      "text/plain": [
       "<Figure size 360x216 with 1 Axes>"
      ]
     },
     "metadata": {},
     "output_type": "display_data"
    }
   ],
   "source": [
    "result = ratings.groupby(['gender', 'age']).size() / len(ratings)\n",
    "result = result.reindex([('F', v) for v in age_mapping.values()] + [('M', v) for v in age_mapping.values()])\n",
    "plt.figure(figsize=(5, 3))\n",
    "plt.title('Proportion of MovieLens 1M ratings\\nby gender and age', fontsize=14)\n",
    "result.plot.bar(color=[GENDER_COLORS[k[0]] for k in result.index.tolist()])\n",
    "plt.ylabel('Proportion', fontsize=14)\n",
    "plt.xlabel('Gender and age group', fontsize=14)\n",
    "plt.savefig(os.path.join(OUTPUT_DIR, 'movielens.prop_ratings.gender_age.pdf'), dpi=300)"
   ]
  },
  {
   "cell_type": "code",
   "execution_count": 12,
   "metadata": {},
   "outputs": [
    {
     "data": {
      "text/plain": [
       "<matplotlib.axes._subplots.AxesSubplot at 0x1554b71cac18>"
      ]
     },
     "execution_count": 12,
     "metadata": {},
     "output_type": "execute_result"
    },
    {
     "data": {
      "image/png": "[encoded data removed]",
      "text/plain": [
       "<Figure size 864x432 with 1 Axes>"
      ]
     },
     "metadata": {},
     "output_type": "display_data"
    }
   ],
   "source": [
    "plt.figure(figsize=(12, 6))\n",
    "sns.histplot(data=ratings, x='timestamp', hue='gender',\n",
    "             palette=GENDER_COLORS)"
   ]
  },
  {
   "cell_type": "markdown",
   "metadata": {},
   "source": [
    "## Differences in rating by gender"
   ]
  },
  {
   "cell_type": "code",
   "execution_count": 13,
   "metadata": {},
   "outputs": [],
   "source": [
    "gender_avg_rating = defaultdict(list)\n",
    "gender_N_ratings = defaultdict(list)\n",
    "\n",
    "for u_id, u_df in ratings.groupby('user_id'):\n",
    "    gender = users[users['user_id'] == u_id]['gender'].tolist()[0]\n",
    "    gender_avg_rating[gender].append(np.average(u_df['rating'].values))\n",
    "    gender_N_ratings[gender].append(len(u_df))"
   ]
  },
  {
   "cell_type": "markdown",
   "metadata": {},
   "source": [
    "The average rating a female-identifying user assigns a movie is generally higher. Note this doesn't necessarily mean that the movie recommendations females receive are better - one possible explanation that we can't verify is that perhaps female users are more likely to only rate movies that they like. We also see that female users generally rate fewer movies than male users."
   ]
  },
  {
   "cell_type": "code",
   "execution_count": 14,
   "metadata": {},
   "outputs": [
    {
     "data": {
      "text/plain": [
       "MannwhitneyuResult(statistic=3881977.0, pvalue=0.0015015478615958843)"
      ]
     },
     "execution_count": 14,
     "metadata": {},
     "output_type": "execute_result"
    }
   ],
   "source": [
    "# Shows that the difference is statistically significant - note we use this a few times in the notebook\n",
    "# but don't apply any sort of multiple testing correction, so take this with a grain of salt\n",
    "mannwhitneyu(gender_avg_rating['F'], gender_avg_rating['M'], alternative='greater')"
   ]
  },
  {
   "cell_type": "code",
   "execution_count": 15,
   "metadata": {
    "scrolled": true
   },
   "outputs": [
    {
     "data": {
      "text/plain": [
       "'Average rating per user: F = 3.73, M = 3.69'"
      ]
     },
     "execution_count": 15,
     "metadata": {},
     "output_type": "execute_result"
    }
   ],
   "source": [
    "\"Average rating per user: F = {0:.2f}, M = {1:.2f}\".format(\n",
    "    np.average(gender_avg_rating['F']), np.average(gender_avg_rating['M']))"
   ]
  },
  {
   "cell_type": "code",
   "execution_count": 16,
   "metadata": {},
   "outputs": [
    {
     "data": {
      "text/plain": [
       "MannwhitneyuResult(statistic=3315703.0, pvalue=1.3998233485733903e-10)"
      ]
     },
     "execution_count": 16,
     "metadata": {},
     "output_type": "execute_result"
    }
   ],
   "source": [
    "mannwhitneyu(gender_N_ratings['F'], gender_N_ratings['M'], alternative='less')"
   ]
  },
  {
   "cell_type": "code",
   "execution_count": 17,
   "metadata": {},
   "outputs": [
    {
     "data": {
      "text/plain": [
       "'Average number of ratings per user: F = 144.20, M = 174.04'"
      ]
     },
     "execution_count": 17,
     "metadata": {},
     "output_type": "execute_result"
    }
   ],
   "source": [
    "\"Average number of ratings per user: F = {0:.2f}, M = {1:.2f}\".format(\n",
    "    np.average(gender_N_ratings['F']), np.average(gender_N_ratings['M']))"
   ]
  },
  {
   "cell_type": "markdown",
   "metadata": {},
   "source": [
    "For each user, if we segment by each user's earlier half and later half of ratings, we see that all users seem to rate less positively in the later half of their time on MovieLens"
   ]
  },
  {
   "cell_type": "code",
   "execution_count": 18,
   "metadata": {},
   "outputs": [],
   "source": [
    "early_gender_ratings = defaultdict(list)\n",
    "late_gender_ratings = defaultdict(list)\n",
    "\n",
    "for u_id, u_df in ratings.groupby('user_id'):\n",
    "    u_df = u_df.sort_values('timestamp')\n",
    "    gender = users[users['user_id'] == u_id]['gender'].tolist()[0]\n",
    "    user_ratings = u_df['rating'].values\n",
    "    half = len(u_df) // 2\n",
    "    early_gender_ratings[gender].append(np.average(user_ratings[:half]))\n",
    "    late_gender_ratings[gender].append(np.average(user_ratings[half:]))"
   ]
  },
  {
   "cell_type": "code",
   "execution_count": 19,
   "metadata": {},
   "outputs": [
    {
     "name": "stdout",
     "output_type": "stream",
     "text": [
      "Average ratings in first half of user history: F = 3.76, M = 3.74\n"
     ]
    }
   ],
   "source": [
    "print('Average ratings in first half of user history: F = {0:.2f}, M = {1:.2f}'.format(\n",
    "    np.average(early_gender_ratings['F']), np.average(early_gender_ratings['M'])))"
   ]
  },
  {
   "cell_type": "code",
   "execution_count": 20,
   "metadata": {},
   "outputs": [
    {
     "name": "stdout",
     "output_type": "stream",
     "text": [
      "Average ratings in second half of user history: F = 3.70, M = 3.65\n"
     ]
    }
   ],
   "source": [
    "print('Average ratings in second half of user history: F = {0:.2f}, M = {1:.2f}'.format(\n",
    "    np.average(late_gender_ratings['F']), np.average(late_gender_ratings['M'])))"
   ]
  },
  {
   "cell_type": "markdown",
   "metadata": {},
   "source": [
    "Segmenting users by time doesn't show much difference in user ratings.  "
   ]
  },
  {
   "cell_type": "code",
   "execution_count": 21,
   "metadata": {},
   "outputs": [
    {
     "data": {
      "text/html": [
       "<div>\n",
       "<style scoped>\n",
       "    .dataframe tbody tr th:only-of-type {\n",
       "        vertical-align: middle;\n",
       "    }\n",
       "\n",
       "    .dataframe tbody tr th {\n",
       "        vertical-align: top;\n",
       "    }\n",
       "\n",
       "    .dataframe thead th {\n",
       "        text-align: right;\n",
       "    }\n",
       "</style>\n",
       "<table border=\"1\" class=\"dataframe\">\n",
       "  <thead>\n",
       "    <tr style=\"text-align: right;\">\n",
       "      <th></th>\n",
       "      <th>user_id</th>\n",
       "      <th>movie_id</th>\n",
       "      <th>rating</th>\n",
       "      <th>timestamp</th>\n",
       "      <th>gender</th>\n",
       "      <th>age</th>\n",
       "      <th>occupation</th>\n",
       "      <th>zip_code</th>\n",
       "    </tr>\n",
       "  </thead>\n",
       "  <tbody>\n",
       "    <tr>\n",
       "      <th>1000138</th>\n",
       "      <td>6040</td>\n",
       "      <td>858</td>\n",
       "      <td>4</td>\n",
       "      <td>956703932</td>\n",
       "      <td>M</td>\n",
       "      <td>25-34</td>\n",
       "      <td>6</td>\n",
       "      <td>11106</td>\n",
       "    </tr>\n",
       "    <tr>\n",
       "      <th>1000153</th>\n",
       "      <td>6040</td>\n",
       "      <td>2384</td>\n",
       "      <td>4</td>\n",
       "      <td>956703954</td>\n",
       "      <td>M</td>\n",
       "      <td>25-34</td>\n",
       "      <td>6</td>\n",
       "      <td>11106</td>\n",
       "    </tr>\n",
       "    <tr>\n",
       "      <th>999873</th>\n",
       "      <td>6040</td>\n",
       "      <td>593</td>\n",
       "      <td>5</td>\n",
       "      <td>956703954</td>\n",
       "      <td>M</td>\n",
       "      <td>25-34</td>\n",
       "      <td>6</td>\n",
       "      <td>11106</td>\n",
       "    </tr>\n",
       "    <tr>\n",
       "      <th>1000007</th>\n",
       "      <td>6040</td>\n",
       "      <td>1961</td>\n",
       "      <td>4</td>\n",
       "      <td>956703977</td>\n",
       "      <td>M</td>\n",
       "      <td>25-34</td>\n",
       "      <td>6</td>\n",
       "      <td>11106</td>\n",
       "    </tr>\n",
       "    <tr>\n",
       "      <th>1000192</th>\n",
       "      <td>6040</td>\n",
       "      <td>2019</td>\n",
       "      <td>5</td>\n",
       "      <td>956703977</td>\n",
       "      <td>M</td>\n",
       "      <td>25-34</td>\n",
       "      <td>6</td>\n",
       "      <td>11106</td>\n",
       "    </tr>\n",
       "  </tbody>\n",
       "</table>\n",
       "</div>"
      ],
      "text/plain": [
       "         user_id  movie_id  rating  timestamp gender    age  occupation  \\\n",
       "1000138     6040       858       4  956703932      M  25-34           6   \n",
       "1000153     6040      2384       4  956703954      M  25-34           6   \n",
       "999873      6040       593       5  956703954      M  25-34           6   \n",
       "1000007     6040      1961       4  956703977      M  25-34           6   \n",
       "1000192     6040      2019       5  956703977      M  25-34           6   \n",
       "\n",
       "        zip_code  \n",
       "1000138    11106  \n",
       "1000153    11106  \n",
       "999873     11106  \n",
       "1000007    11106  \n",
       "1000192    11106  "
      ]
     },
     "execution_count": 21,
     "metadata": {},
     "output_type": "execute_result"
    }
   ],
   "source": [
    "sorted_ratings = ratings.sort_values('timestamp')\n",
    "sorted_ratings = sorted_ratings[sorted_ratings['timestamp'] < 0.98 * 1e9]\n",
    "sorted_ratings.head()"
   ]
  },
  {
   "cell_type": "code",
   "execution_count": 22,
   "metadata": {},
   "outputs": [],
   "source": [
    "mid_time = sorted_ratings['timestamp'].min() + \\\n",
    "           (sorted_ratings['timestamp'].max() - sorted_ratings['timestamp'].min()) // 2"
   ]
  },
  {
   "cell_type": "code",
   "execution_count": 23,
   "metadata": {},
   "outputs": [],
   "source": [
    "user_start_end = []\n",
    "user_start_end_dict = {}\n",
    "for g_id, group in sorted_ratings.groupby(by='user_id'):\n",
    "    user_start_end.append({\n",
    "        'user_id': g_id,\n",
    "        'gender': users[users['user_id'] == g_id]['gender'].values[0],\n",
    "        'start_timestamp': group['timestamp'].min(),\n",
    "        'end_timestamp': group['timestamp'].max(),\n",
    "        'average_rating': np.average(group['rating']),\n",
    "        'n_ratings': len(group)\n",
    "    })\n",
    "    user_start_end_dict[g_id] = (group['timestamp'].min(), group['timestamp'].max())"
   ]
  },
  {
   "cell_type": "code",
   "execution_count": 24,
   "metadata": {},
   "outputs": [],
   "source": [
    "early_gender_ratings = defaultdict(list)\n",
    "late_gender_ratings = defaultdict(list)\n",
    "\n",
    "sorted_users = sorted_ratings['user_id'].unique()\n",
    "for ix, user_id in enumerate(sorted_users):\n",
    "    u_df = sorted_ratings[sorted_ratings['user_id'] == user_id]\n",
    "    gender = users[users['user_id'] == user_id]['gender'].tolist()[0]\n",
    "    if user_start_end_dict[user_id][0] < mid_time:\n",
    "        early_gender_ratings[gender].append(np.average(u_df['rating'].values))\n",
    "    else:\n",
    "        late_gender_ratings[gender].append(np.average(u_df['rating'].values))"
   ]
  },
  {
   "cell_type": "code",
   "execution_count": 25,
   "metadata": {},
   "outputs": [
    {
     "name": "stdout",
     "output_type": "stream",
     "text": [
      "Difference in average rating between 1st half users versus second half: F = 3.74 - 3.72 = 0.02\n"
     ]
    }
   ],
   "source": [
    "print('Difference in average rating between 1st half users versus second half: '\n",
    "      'F = {0:.2f} - {1:.2f} = {2:.2f}'.format(\n",
    "    np.average(early_gender_ratings['F']), np.average(late_gender_ratings['F']), \n",
    "    np.average(early_gender_ratings['F']) - np.average(late_gender_ratings['F']),))"
   ]
  },
  {
   "cell_type": "code",
   "execution_count": 26,
   "metadata": {},
   "outputs": [
    {
     "name": "stdout",
     "output_type": "stream",
     "text": [
      "Difference in average rating between 1st half users versus second half: M = 3.70 - 3.70 = 0.00\n"
     ]
    }
   ],
   "source": [
    "print('Difference in average rating between 1st half users versus second half: '\n",
    "      'M = {0:.2f} - {1:.2f} = {2:.2f}'.format(\n",
    "    np.average(early_gender_ratings['M']), np.average(late_gender_ratings['M']), \n",
    "    np.average(early_gender_ratings['M']) - np.average(late_gender_ratings['M']),))"
   ]
  },
  {
   "cell_type": "markdown",
   "metadata": {},
   "source": [
    "## Differences in use duration by gender"
   ]
  },
  {
   "cell_type": "code",
   "execution_count": 28,
   "metadata": {},
   "outputs": [],
   "source": [
    "ratings['timestamp_dt'] = pd.to_datetime(ratings['timestamp'].apply(\n",
    "    lambda d: datetime.fromtimestamp(d).strftime('%Y-%m-%d')))\n",
    "\n",
    "user_start_end = []\n",
    "for g_id, group in ratings.groupby(by='user_id'):\n",
    "    n_days = (group['timestamp_dt'].max() - group['timestamp_dt'].min())\n",
    "    user_start_end.append({\n",
    "        'user_id': g_id,\n",
    "        'gender': users[users['user_id'] == g_id]['gender'].values[0],\n",
    "        'start': group['timestamp_dt'].min(),\n",
    "        'end': group['timestamp_dt'].max(),\n",
    "        'n_days': (group['timestamp_dt'].max() - group['timestamp_dt'].min()).days,\n",
    "        'n_sec': (group['timestamp'].max() - group['timestamp'].min())\n",
    "\n",
    "    })"
   ]
  },
  {
   "cell_type": "code",
   "execution_count": 29,
   "metadata": {},
   "outputs": [],
   "source": [
    "use_rate_df = pd.DataFrame(user_start_end)\n",
    "\n",
    "timebin_label = {\n",
    "    0: '< 1 day',\n",
    "    1: '1-14 days',\n",
    "    2: '7-14 days',\n",
    "    3: '> 14 days'\n",
    "}\n",
    "manual_timebin = []\n",
    "for days in use_rate_df['n_days'].tolist():\n",
    "    if days == 0:\n",
    "        manual_timebin.append(0)\n",
    "    elif days > 0 and days <= 7:\n",
    "        manual_timebin.append(1)\n",
    "    elif days > 7 and days <= 14:\n",
    "        manual_timebin.append(2)\n",
    "    else:\n",
    "        manual_timebin.append(3)\n",
    "use_rate_df['timebin'] = manual_timebin"
   ]
  },
  {
   "cell_type": "code",
   "execution_count": 30,
   "metadata": {},
   "outputs": [],
   "source": [
    "agg_rate_df = use_rate_df.groupby(['gender', 'timebin']).size()\n",
    "agg_rate_df = agg_rate_df.reset_index()"
   ]
  },
  {
   "cell_type": "code",
   "execution_count": 31,
   "metadata": {},
   "outputs": [],
   "source": [
    "agg_rate_df['time label'] = [timebin_label[k] for k in agg_rate_df['timebin']]"
   ]
  },
  {
   "cell_type": "code",
   "execution_count": 32,
   "metadata": {},
   "outputs": [
    {
     "data": {
      "text/html": [
       "<div>\n",
       "<style scoped>\n",
       "    .dataframe tbody tr th:only-of-type {\n",
       "        vertical-align: middle;\n",
       "    }\n",
       "\n",
       "    .dataframe tbody tr th {\n",
       "        vertical-align: top;\n",
       "    }\n",
       "\n",
       "    .dataframe thead th {\n",
       "        text-align: right;\n",
       "    }\n",
       "</style>\n",
       "<table border=\"1\" class=\"dataframe\">\n",
       "  <thead>\n",
       "    <tr style=\"text-align: right;\">\n",
       "      <th></th>\n",
       "      <th>gender</th>\n",
       "      <th>timebin</th>\n",
       "      <th>0</th>\n",
       "      <th>time label</th>\n",
       "      <th>prop</th>\n",
       "    </tr>\n",
       "  </thead>\n",
       "  <tbody>\n",
       "    <tr>\n",
       "      <th>0</th>\n",
       "      <td>F</td>\n",
       "      <td>0</td>\n",
       "      <td>1051</td>\n",
       "      <td>&lt; 1 day</td>\n",
       "      <td>0.614980</td>\n",
       "    </tr>\n",
       "    <tr>\n",
       "      <th>1</th>\n",
       "      <td>F</td>\n",
       "      <td>1</td>\n",
       "      <td>197</td>\n",
       "      <td>1-14 days</td>\n",
       "      <td>0.115272</td>\n",
       "    </tr>\n",
       "    <tr>\n",
       "      <th>2</th>\n",
       "      <td>F</td>\n",
       "      <td>2</td>\n",
       "      <td>43</td>\n",
       "      <td>7-14 days</td>\n",
       "      <td>0.025161</td>\n",
       "    </tr>\n",
       "    <tr>\n",
       "      <th>3</th>\n",
       "      <td>F</td>\n",
       "      <td>3</td>\n",
       "      <td>418</td>\n",
       "      <td>&gt; 14 days</td>\n",
       "      <td>0.244587</td>\n",
       "    </tr>\n",
       "    <tr>\n",
       "      <th>4</th>\n",
       "      <td>M</td>\n",
       "      <td>0</td>\n",
       "      <td>2475</td>\n",
       "      <td>&lt; 1 day</td>\n",
       "      <td>0.571462</td>\n",
       "    </tr>\n",
       "  </tbody>\n",
       "</table>\n",
       "</div>"
      ],
      "text/plain": [
       "  gender  timebin     0 time label      prop\n",
       "0      F        0  1051    < 1 day  0.614980\n",
       "1      F        1   197  1-14 days  0.115272\n",
       "2      F        2    43  7-14 days  0.025161\n",
       "3      F        3   418  > 14 days  0.244587\n",
       "4      M        0  2475    < 1 day  0.571462"
      ]
     },
     "execution_count": 32,
     "metadata": {},
     "output_type": "execute_result"
    }
   ],
   "source": [
    "N_female = len(use_rate_df[use_rate_df['gender'] == 'F'])\n",
    "N_male = len(use_rate_df[use_rate_df['gender'] == 'M'])\n",
    "agg_rate_df['prop'] = np.hstack([\n",
    "    agg_rate_df[agg_rate_df['gender'] == 'F'][0].values / N_female, \n",
    "    agg_rate_df[agg_rate_df['gender'] == 'M'][0].values / N_male])\n",
    "agg_rate_df.head()"
   ]
  },
  {
   "cell_type": "code",
   "execution_count": 33,
   "metadata": {},
   "outputs": [
    {
     "data": {
      "image/png": "[encoded data removed]",
      "text/plain": [
       "<Figure size 288x144 with 1 Axes>"
      ]
     },
     "metadata": {},
     "output_type": "display_data"
    }
   ],
   "source": [
    "plt.figure(figsize=(4, 2))\n",
    "ax = sns.barplot(data=agg_rate_df, y='timebin', x='prop',\n",
    "            hue='gender', palette=GENDER_COLORS,\n",
    "            orient='h')\n",
    "ax.set_yticklabels(agg_rate_df['time label'].values)\n",
    "plt.ylabel('Proportion', fontsize=14)\n",
    "plt.xlabel('Time on MovieLens', fontsize=14)\n",
    "plt.savefig(os.path.join(OUTPUT_DIR, 'movielens.user_history_length.pdf'), dpi=300)"
   ]
  },
  {
   "cell_type": "code",
   "execution_count": 34,
   "metadata": {},
   "outputs": [
    {
     "data": {
      "text/plain": [
       "MannwhitneyuResult(statistic=3532476.5, pvalue=0.001027504779079278)"
      ]
     },
     "execution_count": 34,
     "metadata": {},
     "output_type": "execute_result"
    }
   ],
   "source": [
    "mannwhitneyu(\n",
    "    use_rate_df[use_rate_df['gender'] == 'F']['n_days'].values, \n",
    "    use_rate_df[use_rate_df['gender'] == 'M']['n_days'].values,\n",
    "    alternative='less')"
   ]
  },
  {
   "cell_type": "code",
   "execution_count": 35,
   "metadata": {},
   "outputs": [
    {
     "data": {
      "text/plain": [
       "MannwhitneyuResult(statistic=3500474.5, pvalue=0.0005146323207489236)"
      ]
     },
     "execution_count": 35,
     "metadata": {},
     "output_type": "execute_result"
    }
   ],
   "source": [
    "mannwhitneyu(\n",
    "    use_rate_df[use_rate_df['gender'] == 'F']['n_sec'].values, \n",
    "    use_rate_df[use_rate_df['gender'] == 'M']['n_sec'].values,\n",
    "    alternative='less')"
   ]
  },
  {
   "cell_type": "markdown",
   "metadata": {},
   "source": [
    "Try to see differences in churn rate"
   ]
  },
  {
   "cell_type": "code",
   "execution_count": 36,
   "metadata": {},
   "outputs": [],
   "source": [
    "ratings = ratings[ratings['timestamp'] < 0.98 * 1e9]\n"
   ]
  },
  {
   "cell_type": "code",
   "execution_count": 37,
   "metadata": {},
   "outputs": [
    {
     "data": {
      "text/plain": [
       "(Timestamp('2000-04-25 00:00:00'), Timestamp('2001-01-20 00:00:00'))"
      ]
     },
     "execution_count": 37,
     "metadata": {},
     "output_type": "execute_result"
    }
   ],
   "source": [
    "start = ratings['timestamp_dt'].min()\n",
    "end = ratings['timestamp_dt'].max() \n",
    "start, end"
   ]
  },
  {
   "cell_type": "code",
   "execution_count": 38,
   "metadata": {},
   "outputs": [],
   "source": [
    "segments = [start + timedelta(x) for x in range(1, (end - start).days, 1)]"
   ]
  },
  {
   "cell_type": "code",
   "execution_count": 39,
   "metadata": {},
   "outputs": [],
   "source": [
    "def get_churn(user_start_end, use_attr=None):\n",
    "    # number of users at the start of the segment\n",
    "    count_per_segment = defaultdict(int)  \n",
    "    for ix, next_m in enumerate(segments[1:]):\n",
    "        curr_m = segments[ix]\n",
    "        for u in user_start_end:\n",
    "            # if we are filtering by gender, skip if doesn't match\n",
    "            if use_attr is not None and u['gender'] != use_attr:\n",
    "                continue\n",
    "            u_start, u_end = u['start'], u['end']\n",
    "            # user starts before the segment and doesn't end before the segment\n",
    "            if u_start <= curr_m and u_end > curr_m:\n",
    "                count_per_segment[(curr_m, next_m)] += 1\n",
    "    segment_dropoff = defaultdict(int)\n",
    "    for ix, next_m in enumerate(segments[1:]):\n",
    "        curr_m = segments[ix]\n",
    "        for u in user_start_end:\n",
    "            if use_attr is not None and u['gender'] != use_attr:\n",
    "                continue\n",
    "            u_start, u_end = u['start'], u['end']\n",
    "            if u_start <= curr_m and u_end > curr_m and u_end <= next_m:\n",
    "                segment_dropoff[(curr_m, next_m)] += 1\n",
    "    \n",
    "    churn_rate = {}\n",
    "    for curr_m, next_m in count_per_segment.keys():\n",
    "        count_users_start = count_per_segment[(curr_m, next_m)]\n",
    "        users_dropped = segment_dropoff[(curr_m, next_m)]\n",
    "        churn_rate[curr_m] = users_dropped / count_users_start\n",
    "    return churn_rate"
   ]
  },
  {
   "cell_type": "code",
   "execution_count": 40,
   "metadata": {},
   "outputs": [],
   "source": [
    "churn_baseline = get_churn(user_start_end)\n",
    "churn_male = get_churn(user_start_end, use_attr='M')\n",
    "churn_female = get_churn(user_start_end, use_attr='F')"
   ]
  },
  {
   "cell_type": "code",
   "execution_count": 41,
   "metadata": {},
   "outputs": [
    {
     "data": {
      "text/plain": [
       "<matplotlib.legend.Legend at 0x15554905b668>"
      ]
     },
     "execution_count": 41,
     "metadata": {},
     "output_type": "execute_result"
    },
    {
     "data": {
      "image/png": "[encoded data removed]",
      "text/plain": [
       "<Figure size 1152x432 with 1 Axes>"
      ]
     },
     "metadata": {},
     "output_type": "display_data"
    }
   ],
   "source": [
    "segments = list(churn_baseline.keys())\n",
    "xs = list(range(len(segments)))\n",
    "\n",
    "plt.figure(figsize=(16, 6))\n",
    "plt.plot(xs, list(churn_male.values()), label='M', c=GENDER_COLORS['M'])\n",
    "plt.plot(xs, list(churn_female.values()), label='F', c=GENDER_COLORS['F'])\n",
    "plt.legend()"
   ]
  },
  {
   "cell_type": "code",
   "execution_count": 42,
   "metadata": {},
   "outputs": [
    {
     "data": {
      "text/plain": [
       "MannwhitneyuResult(statistic=31142.0, pvalue=0.003763328232736797)"
      ]
     },
     "execution_count": 42,
     "metadata": {},
     "output_type": "execute_result"
    }
   ],
   "source": [
    "mannwhitneyu(list(churn_female.values()), list(churn_male.values()), alternative='less')"
   ]
  },
  {
   "cell_type": "code",
   "execution_count": 43,
   "metadata": {},
   "outputs": [
    {
     "data": {
      "text/plain": [
       "'Average churn rate: M = 0.013, F = 0.012'"
      ]
     },
     "execution_count": 43,
     "metadata": {},
     "output_type": "execute_result"
    }
   ],
   "source": [
    "'Average churn rate: M = {0:.3f}, F = {1:.3f}'.format(\n",
    "    np.average(list(churn_male.values())), np.average(list(churn_female.values())))"
   ]
  },
  {
   "cell_type": "code",
   "execution_count": 45,
   "metadata": {},
   "outputs": [
    {
     "data": {
      "text/plain": [
       "0.016155076809322724"
      ]
     },
     "execution_count": 45,
     "metadata": {},
     "output_type": "execute_result"
    }
   ],
   "source": [
    "np.std(list(churn_male.values()))"
   ]
  },
  {
   "cell_type": "code",
   "execution_count": 46,
   "metadata": {},
   "outputs": [
    {
     "data": {
      "text/plain": [
       "0.020666361436346207"
      ]
     },
     "execution_count": 46,
     "metadata": {},
     "output_type": "execute_result"
    }
   ],
   "source": [
    "np.std(list(churn_female.values()))"
   ]
  },
  {
   "cell_type": "code",
   "execution_count": null,
   "metadata": {},
   "outputs": [],
   "source": []
  }
 ],
 "metadata": {
  "kernelspec": {
   "display_name": "Python (534-mB)",
   "language": "python",
   "name": "534-mb"
  },
  "language_info": {
   "codemirror_mode": {
    "name": "ipython",
    "version": 3
   },
   "file_extension": ".py",
   "mimetype": "text/x-python",
   "name": "python",
   "nbconvert_exporter": "python",
   "pygments_lexer": "ipython3",
   "version": "3.6.6"
  }
 },
 "nbformat": 4,
 "nbformat_minor": 2
}
