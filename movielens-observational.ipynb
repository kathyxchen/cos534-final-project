{
 "cells": [
  {
   "cell_type": "markdown",
   "metadata": {},
   "source": [
    "## Statistical analysis of the MovieLens 1m dataset"
   ]
  },
  {
   "cell_type": "markdown",
   "metadata": {},
   "source": [
    "Like Wan et al., we split a user's move preferences into (1) the user's willingness to consume (watch) a movie, and (2) the user's satisfaction feedback (rating) for the movie. \n",
    "\n",
    "The following analysis are purely observational and aim to identify bias across these two aspects. \n",
    "\n"
   ]
  },
  {
   "cell_type": "markdown",
   "metadata": {},
   "source": [
    "Code adapted from Wan et al.'s Github repository: https://github.com/MengtingWan/marketBias/blob/master/analysis.ipynb"
   ]
  },
  {
   "cell_type": "code",
   "execution_count": 16,
   "metadata": {},
   "outputs": [],
   "source": [
    "from datetime import datetime\n",
    "import numpy as np\n",
    "import pandas as pd\n",
    "import matplotlib.pyplot as plt\n",
    "from matplotlib import rc\n",
    "from scipy.stats import chi2_contingency, ttest_ind, ttest_rel, f_oneway\n",
    "import statsmodels.api as sm\n",
    "from statsmodels.formula.api import ols\n",
    "import seaborn as sns\n",
    "\n",
    "%matplotlib inline\n",
    "rc('pdf', fonttype=42)"
   ]
  },
  {
   "cell_type": "markdown",
   "metadata": {},
   "source": [
    "Note to avoid modifying Wan et al.'s code significantly, we named the dataframe columns in the same way that they did. `model_attr` in our context is the gender stereotype of movie genres. Movie genres are gendered based on who is represented in certain kinds of movies and societal/cultural expectations of what males vs females should like (reinforced by various agents of socialization over people's lifetimes). "
   ]
  },
  {
   "cell_type": "code",
   "execution_count": 9,
   "metadata": {},
   "outputs": [],
   "source": [
    "def contingency_table(df_review, columns=[]):\n",
    "    tab = pd.crosstab(df_review['model_attr'], df_review['user_attr'], margins=True)\n",
    "    if len(columns) > 0:\n",
    "        tab = tab[columns]\n",
    "    print('contingency table')\n",
    "    display(tab)\n",
    "    tab = df_review.groupby(['model_attr', 'user_attr'])['rating'].size().unstack()\n",
    "    if len(columns)>1:\n",
    "        tab = tab[columns[:-1]]\n",
    "    g, p, dof, expected = chi2_contingency(tab.values)\n",
    "    print('chi2', g.round(3), 'p-value', p.round(3))\n",
    "    print('')\n",
    "    print('real market size - expected market size')\n",
    "    display((tab-expected).round(2))\n",
    "    \n",
    "def two_way_anova(df_review, metric):\n",
    "    test3 = sm.stats.anova_lm(\n",
    "        ols(metric+' ~ model_attr*user_attr', data=df_review).fit()).values[:3,-2:]\n",
    "    df = pd.DataFrame(test3,\n",
    "                      columns=['F-stat', 'p-value'], \n",
    "                      index=['product', 'user', 'product:user'])\n",
    "    display(df.round(3))\n",
    "    return df\n",
    "\n",
    "def plot_avg_by_segment(df_review, metric, figsize, index=[], dataset='', dump=True):\n",
    "    fig = plt.figure(figsize=figsize)\n",
    "    group_rating = df_review.groupby(['user_attr', 'model_attr'])[metric].mean().unstack()\n",
    "    group_std = 1.96*df_review.groupby(['user_attr', 'model_attr'])[metric].sem().unstack()\n",
    "    if len(index)>0:\n",
    "        group_rating = group_rating.loc[index]\n",
    "    group_rating.index = group_rating.index.rename('user identity')\n",
    "    group_rating.columns = group_rating.columns.rename('product image')\n",
    "    text = []\n",
    "    for ri in range(group_rating.shape[0]):\n",
    "        row = []\n",
    "        for ci in range(group_rating.shape[1]):\n",
    "            row.append(str(group_rating.values[ri, ci].round(2))+'\\n('+r'$\\pm$'+str(group_std.values[ri, ci].round(2))+')')\n",
    "        text.append(row)\n",
    "    text = np.array(text)\n",
    "    \n",
    "    sns.heatmap(group_rating, annot=text, fmt='s', cmap=\"YlGnBu\", annot_kws={\"size\": 13},\n",
    "                cbar=False)\n",
    "    if dump:\n",
    "        fig.savefig('./plot/'+dataset+'_'+metric+'_heatmap.pdf', bbox_inches='tight')"
   ]
  },
  {
   "cell_type": "code",
   "execution_count": 17,
   "metadata": {},
   "outputs": [],
   "source": [
    "df_review = pd.read_csv('./data/df_movielens_1m.csv')\n",
    "df_review['timestamp'] = df_review['timestamp'].apply(lambda d: datetime.fromtimestamp(d).strftime('%Y-%m-%d'))\n",
    "df_review['timestamp'] = pd.to_datetime(df_review['timestamp'])"
   ]
  },
  {
   "cell_type": "markdown",
   "metadata": {},
   "source": [
    "Null hypothesis is that the gender stereotype of movies and user identity is statistically independent. Our Chi-Squared test shows that we will reject the null hypothesis with an extremely large Chi^2 and significant p-value. \n",
    "\n",
    "Contingency table of the frequency distribution of movie genre gender stereotypes and user identities confirms self-congruity (i.e. movies perceived as 'male' movies are watched by more male users). Again, please ignore `model_attr` which should be more like `movie_attr`"
   ]
  },
  {
   "cell_type": "code",
   "execution_count": 24,
   "metadata": {
    "scrolled": true
   },
   "outputs": [
    {
     "name": "stdout",
     "output_type": "stream",
     "text": [
      "contingency table\n"
     ]
    },
    {
     "data": {
      "text/html": [
       "<div>\n",
       "<style scoped>\n",
       "    .dataframe tbody tr th:only-of-type {\n",
       "        vertical-align: middle;\n",
       "    }\n",
       "\n",
       "    .dataframe tbody tr th {\n",
       "        vertical-align: top;\n",
       "    }\n",
       "\n",
       "    .dataframe thead th {\n",
       "        text-align: right;\n",
       "    }\n",
       "</style>\n",
       "<table border=\"1\" class=\"dataframe\">\n",
       "  <thead>\n",
       "    <tr style=\"text-align: right;\">\n",
       "      <th>user_attr</th>\n",
       "      <th>F</th>\n",
       "      <th>M</th>\n",
       "      <th>All</th>\n",
       "    </tr>\n",
       "    <tr>\n",
       "      <th>model_attr</th>\n",
       "      <th></th>\n",
       "      <th></th>\n",
       "      <th></th>\n",
       "    </tr>\n",
       "  </thead>\n",
       "  <tbody>\n",
       "    <tr>\n",
       "      <th>F</th>\n",
       "      <td>109920</td>\n",
       "      <td>235355</td>\n",
       "      <td>345275</td>\n",
       "    </tr>\n",
       "    <tr>\n",
       "      <th>M</th>\n",
       "      <td>72279</td>\n",
       "      <td>318055</td>\n",
       "      <td>390334</td>\n",
       "    </tr>\n",
       "    <tr>\n",
       "      <th>MF</th>\n",
       "      <td>64241</td>\n",
       "      <td>200359</td>\n",
       "      <td>264600</td>\n",
       "    </tr>\n",
       "    <tr>\n",
       "      <th>All</th>\n",
       "      <td>246440</td>\n",
       "      <td>753769</td>\n",
       "      <td>1000209</td>\n",
       "    </tr>\n",
       "  </tbody>\n",
       "</table>\n",
       "</div>"
      ],
      "text/plain": [
       "user_attr        F       M      All\n",
       "model_attr                         \n",
       "F           109920  235355   345275\n",
       "M            72279  318055   390334\n",
       "MF           64241  200359   264600\n",
       "All         246440  753769  1000209"
      ]
     },
     "metadata": {},
     "output_type": "display_data"
    },
    {
     "name": "stdout",
     "output_type": "stream",
     "text": [
      "chi2 17526.946 p-value 0.0\n",
      "\n",
      "real market size - expected market size\n"
     ]
    },
    {
     "data": {
      "text/html": [
       "<div>\n",
       "<style scoped>\n",
       "    .dataframe tbody tr th:only-of-type {\n",
       "        vertical-align: middle;\n",
       "    }\n",
       "\n",
       "    .dataframe tbody tr th {\n",
       "        vertical-align: top;\n",
       "    }\n",
       "\n",
       "    .dataframe thead th {\n",
       "        text-align: right;\n",
       "    }\n",
       "</style>\n",
       "<table border=\"1\" class=\"dataframe\">\n",
       "  <thead>\n",
       "    <tr style=\"text-align: right;\">\n",
       "      <th>user_attr</th>\n",
       "      <th>F</th>\n",
       "      <th>M</th>\n",
       "    </tr>\n",
       "    <tr>\n",
       "      <th>model_attr</th>\n",
       "      <th></th>\n",
       "      <th></th>\n",
       "    </tr>\n",
       "  </thead>\n",
       "  <tbody>\n",
       "    <tr>\n",
       "      <th>F</th>\n",
       "      <td>24848.21</td>\n",
       "      <td>-24848.21</td>\n",
       "    </tr>\n",
       "    <tr>\n",
       "      <th>M</th>\n",
       "      <td>-23894.81</td>\n",
       "      <td>23894.81</td>\n",
       "    </tr>\n",
       "    <tr>\n",
       "      <th>MF</th>\n",
       "      <td>-953.40</td>\n",
       "      <td>953.40</td>\n",
       "    </tr>\n",
       "  </tbody>\n",
       "</table>\n",
       "</div>"
      ],
      "text/plain": [
       "user_attr          F         M\n",
       "model_attr                    \n",
       "F           24848.21 -24848.21\n",
       "M          -23894.81  23894.81\n",
       "MF           -953.40    953.40"
      ]
     },
     "metadata": {},
     "output_type": "display_data"
    }
   ],
   "source": [
    "contingency_table(df_review)"
   ]
  },
  {
   "cell_type": "markdown",
   "metadata": {},
   "source": [
    "User satisfaction as a function of movie genre and user identity, using 2-way analysis of variance (ANOVA). Rating scores = user satisfaction with the movie. \n",
    "\n",
    "Null hypotheses:\n",
    "- `product`: average user satisfaction is equal across different movie genres\n",
    "- `user`: average user satisfaction is equal across different user identity groups\n",
    "- `product:user` no interact effect between movie genre and user groups w.r.t satisfaction\n",
    "\n",
    "If the null hypothesis is satisfied, we would expect F-statistic (between-group variation / within-group variation) ... **TODO**"
   ]
  },
  {
   "cell_type": "code",
   "execution_count": 25,
   "metadata": {},
   "outputs": [
    {
     "data": {
      "text/html": [
       "<div>\n",
       "<style scoped>\n",
       "    .dataframe tbody tr th:only-of-type {\n",
       "        vertical-align: middle;\n",
       "    }\n",
       "\n",
       "    .dataframe tbody tr th {\n",
       "        vertical-align: top;\n",
       "    }\n",
       "\n",
       "    .dataframe thead th {\n",
       "        text-align: right;\n",
       "    }\n",
       "</style>\n",
       "<table border=\"1\" class=\"dataframe\">\n",
       "  <thead>\n",
       "    <tr style=\"text-align: right;\">\n",
       "      <th></th>\n",
       "      <th>F-stat</th>\n",
       "      <th>p-value</th>\n",
       "    </tr>\n",
       "  </thead>\n",
       "  <tbody>\n",
       "    <tr>\n",
       "      <th>product</th>\n",
       "      <td>3915.611</td>\n",
       "      <td>0.0</td>\n",
       "    </tr>\n",
       "    <tr>\n",
       "      <th>user</th>\n",
       "      <td>69.454</td>\n",
       "      <td>0.0</td>\n",
       "    </tr>\n",
       "    <tr>\n",
       "      <th>product:user</th>\n",
       "      <td>48.329</td>\n",
       "      <td>0.0</td>\n",
       "    </tr>\n",
       "  </tbody>\n",
       "</table>\n",
       "</div>"
      ],
      "text/plain": [
       "                F-stat  p-value\n",
       "product       3915.611      0.0\n",
       "user            69.454      0.0\n",
       "product:user    48.329      0.0"
      ]
     },
     "metadata": {},
     "output_type": "display_data"
    }
   ],
   "source": [
    "_ = two_way_anova(df_review, 'rating')"
   ]
  },
  {
   "cell_type": "markdown",
   "metadata": {},
   "source": [
    "Heatmap of sample means and their 95% confidence intervals. We find that ... **TODO**"
   ]
  },
  {
   "cell_type": "code",
   "execution_count": 26,
   "metadata": {},
   "outputs": [
    {
     "data": {
      "image/png": "[encoded data removed]",
      "text/plain": [
       "<Figure size 230.4x144 with 1 Axes>"
      ]
     },
     "metadata": {
      "needs_background": "light"
     },
     "output_type": "display_data"
    }
   ],
   "source": [
    "plot_avg_by_segment(df_review, 'rating', (3.2,2), [], dataset, dump=False)"
   ]
  },
  {
   "cell_type": "code",
   "execution_count": null,
   "metadata": {},
   "outputs": [],
   "source": []
  }
 ],
 "metadata": {
  "kernelspec": {
   "display_name": "Python (534-mB)",
   "language": "python",
   "name": "534-mb"
  },
  "language_info": {
   "codemirror_mode": {
    "name": "ipython",
    "version": 3
   },
   "file_extension": ".py",
   "mimetype": "text/x-python",
   "name": "python",
   "nbconvert_exporter": "python",
   "pygments_lexer": "ipython3",
   "version": "3.6.6"
  }
 },
 "nbformat": 4,
 "nbformat_minor": 2
}
